{
 "cells": [
  {
   "cell_type": "code",
   "execution_count": 8,
   "id": "7b6b7248-032f-4872-bb44-3c7ac6e871da",
   "metadata": {},
   "outputs": [],
   "source": [
    "import pandas as pd\n",
    "import matplotlib.pyplot as plt\n",
    "import seaborn as sns\n",
    "import numpy as np\n",
    "from scipy.stats import norm\n",
    "from sklearn.preprocessing import StandardScaler\n",
    "from scipy import stats\n",
    "import warnings\n",
    "warnings.filterwarnings('ignore')\n",
    "%matplotlib inline\n",
    "#下面这坨注释的代码是打开kaggle笔记自带的，运行会输出数据文件的存放路径\n",
    "\"\"\"\n",
    "import os\n",
    "for dirname, _, filenames in os.walk('/kaggle/input'):\n",
    "    for filename in filenames:\n",
    "        print(os.path.join(dirname, filename))\n",
    "\"\"\"\n",
    "\n",
    "df_train = pd.read_csv('../input/house-prices-advanced-regression-techniques/train.csv')\n",
    "# df_train.columns #这个可以查看数据集都有哪些列（特征）"
   ]
  },
  {
   "cell_type": "code",
   "execution_count": 26,
   "id": "07ef6965-1b9d-4615-aab0-72a7d7421b47",
   "metadata": {},
   "outputs": [
    {
     "name": "stdout",
     "output_type": "stream",
     "text": [
      "(1460,)\n",
      "(1460, 1)\n",
      "------------\n",
      "0    30\n",
      "1    35\n",
      "2    40\n",
      "dtype: int64\n",
      "[[30]\n",
      " [35]\n",
      " [40]]\n"
     ]
    }
   ],
   "source": [
    "test_value = df_train['SalePrice']\n",
    "print(test_value.shape)\n",
    "print(test_value.values[:,np.newaxis].shape)\n",
    "print('------------')\n",
    "data = pd.Series([30, 35, 40])\n",
    "print(data)\n",
    "data = data.values[:,np.newaxis] \n",
    "print(data)"
   ]
  }
 ],
 "metadata": {
  "kernelspec": {
   "display_name": "Python 3 (ipykernel)",
   "language": "python",
   "name": "python3"
  },
  "language_info": {
   "codemirror_mode": {
    "name": "ipython",
    "version": 3
   },
   "file_extension": ".py",
   "mimetype": "text/x-python",
   "name": "python",
   "nbconvert_exporter": "python",
   "pygments_lexer": "ipython3",
   "version": "3.12.7"
  }
 },
 "nbformat": 4,
 "nbformat_minor": 5
}
