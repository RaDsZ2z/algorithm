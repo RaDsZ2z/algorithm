{
 "cells": [
  {
   "cell_type": "code",
   "execution_count": 5,
   "id": "7b6b7248-032f-4872-bb44-3c7ac6e871da",
   "metadata": {},
   "outputs": [
    {
     "name": "stdout",
     "output_type": "stream",
     "text": [
      "-0.6744897501960817\n"
     ]
    }
   ],
   "source": [
    "import numpy as np\n",
    "import matplotlib.pyplot as plt\n",
    "import scipy.stats as stats\n",
    "\n",
    "# # 生成一些正态分布的数据\n",
    "# data = np.random.normal(loc=0, scale=1, size=1000)  # 均值为0，标准差为1\n",
    "\n",
    "# # 绘制 Q-Q 图\n",
    "# plt.figure()\n",
    "# stats.probplot(data, dist=\"norm\", plot=plt)\n",
    "# # plt.title(\"Q-Q Plot\")\n",
    "# # plt.xlabel(\"Theoretical Quantiles\")\n",
    "# # plt.ylabel(\"Sample Quantiles\")\n",
    "# plt.grid()\n",
    "# plt.show()\n",
    "print(stats.norm.ppf(0.25))"
   ]
  }
 ],
 "metadata": {
  "kernelspec": {
   "display_name": "Python 3 (ipykernel)",
   "language": "python",
   "name": "python3"
  },
  "language_info": {
   "codemirror_mode": {
    "name": "ipython",
    "version": 3
   },
   "file_extension": ".py",
   "mimetype": "text/x-python",
   "name": "python",
   "nbconvert_exporter": "python",
   "pygments_lexer": "ipython3",
   "version": "3.12.7"
  }
 },
 "nbformat": 4,
 "nbformat_minor": 5
}
