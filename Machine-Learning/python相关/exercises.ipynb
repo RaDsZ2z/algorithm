{
 "cells": [
  {
   "cell_type": "code",
   "execution_count": 1,
   "id": "5c906c6d-09e5-4688-98c3-9d13f749d6e2",
   "metadata": {},
   "outputs": [],
   "source": [
    "import pandas as pd\n",
    "d1 = pd.DataFrame({'Yes': [50, 21], 'No': [131, 2]})\n",
    "d2 = pd.DataFrame({'Bob': ['I liked it.', 'It was awful.'], 'Sue': ['Pretty good.', 'Bland.']})"
   ]
  },
  {
   "cell_type": "markdown",
   "id": "ccd2afb3-961c-489e-bc91-50b5e6af3b9c",
   "metadata": {},
   "source": [
    "`Dataframe`相当于由若干个“字典”组成。“字典”的`key`是字符串；`value`是线性表，默认通过整数下标访问"
   ]
  },
  {
   "cell_type": "code",
   "execution_count": 2,
   "id": "e9ab21c0-266e-4e40-aeba-eaaa5f7fa40d",
   "metadata": {},
   "outputs": [
    {
     "name": "stdout",
     "output_type": "stream",
     "text": [
      "0    50\n",
      "1    21\n",
      "Name: Yes, dtype: int64\n",
      "-----\n",
      "21\n"
     ]
    }
   ],
   "source": [
    "print(d1['Yes'])\n",
    "print(\"-----\")\n",
    "print(d1['Yes'][1])"
   ]
  },
  {
   "cell_type": "markdown",
   "id": "b31104e6-6372-4c36-8b56-044a60e7dafe",
   "metadata": {},
   "source": [
    "也可以指定下标为非整数"
   ]
  },
  {
   "cell_type": "code",
   "execution_count": 7,
   "id": "83a56f35-ddec-4f81-91b5-a0ebdae6b9b8",
   "metadata": {},
   "outputs": [
    {
     "name": "stdout",
     "output_type": "stream",
     "text": [
      "Product A      I liked it.\n",
      "Product B    It was awful.\n",
      "Name: Bob, dtype: object\n",
      "-----\n",
      "I liked it.\n",
      "-----\n"
     ]
    },
    {
     "data": {
      "text/html": [
       "<div>\n",
       "<style scoped>\n",
       "    .dataframe tbody tr th:only-of-type {\n",
       "        vertical-align: middle;\n",
       "    }\n",
       "\n",
       "    .dataframe tbody tr th {\n",
       "        vertical-align: top;\n",
       "    }\n",
       "\n",
       "    .dataframe thead th {\n",
       "        text-align: right;\n",
       "    }\n",
       "</style>\n",
       "<table border=\"1\" class=\"dataframe\">\n",
       "  <thead>\n",
       "    <tr style=\"text-align: right;\">\n",
       "      <th></th>\n",
       "      <th>Bob</th>\n",
       "      <th>Sue</th>\n",
       "    </tr>\n",
       "  </thead>\n",
       "  <tbody>\n",
       "    <tr>\n",
       "      <th>Product A</th>\n",
       "      <td>I liked it.</td>\n",
       "      <td>Pretty good.</td>\n",
       "    </tr>\n",
       "    <tr>\n",
       "      <th>Product B</th>\n",
       "      <td>It was awful.</td>\n",
       "      <td>Bland.</td>\n",
       "    </tr>\n",
       "  </tbody>\n",
       "</table>\n",
       "</div>"
      ],
      "text/plain": [
       "                     Bob           Sue\n",
       "Product A    I liked it.  Pretty good.\n",
       "Product B  It was awful.        Bland."
      ]
     },
     "execution_count": 7,
     "metadata": {},
     "output_type": "execute_result"
    }
   ],
   "source": [
    "d3 = pd.DataFrame({'Bob': ['I liked it.', 'It was awful.'], \n",
    "              'Sue': ['Pretty good.', 'Bland.']},\n",
    "             index=['Product A', 'Product B'])\n",
    "print(d3['Bob'])\n",
    "print(\"-----\")\n",
    "print(d3['Bob']['Product A'])\n",
    "print(\"-----\")\n",
    "#print(v3['Bob'][0]) #会报错\n",
    "d3"
   ]
  },
  {
   "cell_type": "markdown",
   "id": "c1b69d37-4810-4d4e-9d11-e927e8deeded",
   "metadata": {},
   "source": [
    "`Series`就是前文提到的“字典”。如果说`DataFrame`是一个`table`，那么`Series`就是一个`list`"
   ]
  },
  {
   "cell_type": "code",
   "execution_count": 9,
   "id": "274728f4-bda3-4073-8701-80416663d9ad",
   "metadata": {},
   "outputs": [
    {
     "data": {
      "text/plain": [
       "0    1\n",
       "1    2\n",
       "2    3\n",
       "3    4\n",
       "4    5\n",
       "dtype: int64"
      ]
     },
     "execution_count": 9,
     "metadata": {},
     "output_type": "execute_result"
    }
   ],
   "source": [
    "s1 = pd.Series([1, 2, 3, 4, 5])\n",
    "s1"
   ]
  }
 ],
 "metadata": {
  "kernelspec": {
   "display_name": "Python 3 (ipykernel)",
   "language": "python",
   "name": "python3"
  },
  "language_info": {
   "codemirror_mode": {
    "name": "ipython",
    "version": 3
   },
   "file_extension": ".py",
   "mimetype": "text/x-python",
   "name": "python",
   "nbconvert_exporter": "python",
   "pygments_lexer": "ipython3",
   "version": "3.12.7"
  }
 },
 "nbformat": 4,
 "nbformat_minor": 5
}
