{
 "cells": [
  {
   "cell_type": "code",
   "execution_count": 4,
   "id": "0d74ac90-6a8c-4c9d-9322-28feaf688dde",
   "metadata": {},
   "outputs": [
    {
     "name": "stdout",
     "output_type": "stream",
     "text": [
      "<class 'torch.utils.data.dataloader.DataLoader'>\n"
     ]
    }
   ],
   "source": [
    "import torch\n",
    "from torch.utils.data import DataLoader, TensorDataset\n",
    "\n",
    "# 假设有数据与标签\n",
    "X = torch.randn(1000, 32)     # 1000 个样本，特征维 32\n",
    "y = torch.randint(0, 10, (1000,))\n",
    "dataset = TensorDataset(X,y)\n",
    "loader = DataLoader(\n",
    "    dataset,\n",
    "    batch_size=64,\n",
    "    shuffle=True,\n",
    "    num_workers=0,     # Windows 先用 0，稳定后再尝试 >0\n",
    "    pin_memory=True\n",
    ")\n",
    "print(type(loader))\n",
    "for batch in loader:\n",
    "    # print(batch.shape)\n",
    "    # print(batch_y.shape)\n",
    "    # print('---')\n",
    "    # 训练/推理逻辑\n",
    "    pass"
   ]
  },
  {
   "cell_type": "code",
   "execution_count": 2,
   "id": "76d55b21-d2c0-4bf7-99b6-ca3d9a34884b",
   "metadata": {},
   "outputs": [
    {
     "name": "stdout",
     "output_type": "stream",
     "text": [
      "end\n"
     ]
    }
   ],
   "source": [
    "print('end')"
   ]
  }
 ],
 "metadata": {
  "kernelspec": {
   "display_name": "Python 3 (ipykernel)",
   "language": "python",
   "name": "python3"
  },
  "language_info": {
   "codemirror_mode": {
    "name": "ipython",
    "version": 3
   },
   "file_extension": ".py",
   "mimetype": "text/x-python",
   "name": "python",
   "nbconvert_exporter": "python",
   "pygments_lexer": "ipython3",
   "version": "3.12.7"
  }
 },
 "nbformat": 4,
 "nbformat_minor": 5
}
