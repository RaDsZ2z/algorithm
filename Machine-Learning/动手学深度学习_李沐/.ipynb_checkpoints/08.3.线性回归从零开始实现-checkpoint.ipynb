{
 "cells": [
  {
   "cell_type": "markdown",
   "id": "1ffdc260-a29b-43c9-ba7d-8d011d6893a6",
   "metadata": {},
   "source": [
    "# 08.3.线性回归的从零开始实现"
   ]
  },
  {
   "cell_type": "code",
   "execution_count": 23,
   "id": "0558497a-4cfd-4802-88f1-0003adeed90b",
   "metadata": {},
   "outputs": [
    {
     "name": "stdout",
     "output_type": "stream",
     "text": [
      "hello\n"
     ]
    }
   ],
   "source": [
    "import d2l\n",
    "print('hello')"
   ]
  }
 ],
 "metadata": {
  "kernelspec": {
   "display_name": "Python 3 (ipykernel)",
   "language": "python",
   "name": "python3"
  },
  "language_info": {
   "codemirror_mode": {
    "name": "ipython",
    "version": 3
   },
   "file_extension": ".py",
   "mimetype": "text/x-python",
   "name": "python",
   "nbconvert_exporter": "python",
   "pygments_lexer": "ipython3",
   "version": "3.12.4"
  }
 },
 "nbformat": 4,
 "nbformat_minor": 5
}
