{
 "cells": [
  {
   "cell_type": "markdown",
   "id": "390b1b6b-0a80-4f06-b76c-72416270b255",
   "metadata": {},
   "source": [
    "# 08.4.线性回归的简洁实现\n",
    "通过使用深度学习框架来简洁地实现线性回归模型生成数据集"
   ]
  },
  {
   "cell_type": "code",
   "execution_count": 2,
   "id": "423b8204-44c7-47cb-82c5-6c3ee22ebe2b",
   "metadata": {},
   "outputs": [],
   "source": [
    "import numpy as np\n",
    "import torch\n",
    "from torch.utils import data\n",
    "from d2l import torch as d2l\n",
    "\n",
    "true_w = torch.tensor([2, -3.4])\n",
    "true_b = 4.2\n",
    "features, labels = d2l.synthetic_data(true_w, true_b, 1000)"
   ]
  },
  {
   "cell_type": "markdown",
   "id": "f60f2fdf-0cd8-4393-bc64-65e41b536362",
   "metadata": {},
   "source": [
    "调用框架中现有的API来读取数据"
   ]
  },
  {
   "cell_type": "code",
   "execution_count": null,
   "id": "95c2f91b-4e49-4278-b0f1-04950ee8f93b",
   "metadata": {},
   "outputs": [],
   "source": [
    "def load_array(data_arrays, batch_size, is_train = True):\n",
    "    \"\"\"构造一个PyTorch数据迭代器\"\"\"\n",
    "    dataset = data.TensorDataset(*data_arrays)#*表示接受任意多个参数并将其放在一个元组中\n",
    "    return data.DataLoader(dataset, batch_size, shuffle = is_train)\n"
   ]
  }
 ],
 "metadata": {
  "kernelspec": {
   "display_name": "Python 3 (ipykernel)",
   "language": "python",
   "name": "python3"
  },
  "language_info": {
   "codemirror_mode": {
    "name": "ipython",
    "version": 3
   },
   "file_extension": ".py",
   "mimetype": "text/x-python",
   "name": "python",
   "nbconvert_exporter": "python",
   "pygments_lexer": "ipython3",
   "version": "3.12.4"
  }
 },
 "nbformat": 4,
 "nbformat_minor": 5
}
