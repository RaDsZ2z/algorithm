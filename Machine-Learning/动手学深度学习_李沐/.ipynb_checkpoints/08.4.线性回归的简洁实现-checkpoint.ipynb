{
 "cells": [
  {
   "cell_type": "markdown",
   "id": "390b1b6b-0a80-4f06-b76c-72416270b255",
   "metadata": {},
   "source": [
    "# 08.4.线性回归的简洁实现\n",
    "通过使用深度学习框架来简洁地实现线性回归模型生成数据集"
   ]
  },
  {
   "cell_type": "code",
   "execution_count": 2,
   "id": "423b8204-44c7-47cb-82c5-6c3ee22ebe2b",
   "metadata": {},
   "outputs": [],
   "source": [
    "import numpy as np\n",
    "import torch\n",
    "from torch.utils import data\n",
    "from d2l import torch as d2l\n",
    "\n",
    "true_w = torch.tensor([2, -3.4])\n",
    "true_b = 4.2\n",
    "features, labels = d2l.synthetic_data(true_w, true_b, 1000)"
   ]
  },
  {
   "cell_type": "markdown",
   "id": "f60f2fdf-0cd8-4393-bc64-65e41b536362",
   "metadata": {},
   "source": [
    "调用框架中现有的API来读取数据"
   ]
  },
  {
   "cell_type": "code",
   "execution_count": 4,
   "id": "95c2f91b-4e49-4278-b0f1-04950ee8f93b",
   "metadata": {},
   "outputs": [
    {
     "data": {
      "text/plain": [
       "[tensor([[-3.9289e-01, -1.0004e+00],\n",
       "         [ 5.6753e-01,  6.1301e-01],\n",
       "         [-1.0358e+00,  5.2048e-04],\n",
       "         [ 6.8224e-01, -1.2040e+00],\n",
       "         [ 3.1840e-01, -1.8332e+00],\n",
       "         [ 1.1220e+00, -2.2689e-01],\n",
       "         [ 3.2423e-01,  2.7913e-01],\n",
       "         [-3.6689e-01, -1.2123e+00],\n",
       "         [ 2.0974e-01,  3.2510e-01],\n",
       "         [-1.2308e+00,  6.1364e-01]]),\n",
       " tensor([[ 6.8274],\n",
       "         [ 3.2543],\n",
       "         [ 2.1131],\n",
       "         [ 9.6555],\n",
       "         [11.0763],\n",
       "         [ 7.2036],\n",
       "         [ 3.9030],\n",
       "         [ 7.6003],\n",
       "         [ 3.5112],\n",
       "         [-0.3437]])]"
      ]
     },
     "execution_count": 4,
     "metadata": {},
     "output_type": "execute_result"
    }
   ],
   "source": [
    "def load_array(data_arrays, batch_size, is_train = True):\n",
    "    \"\"\"构造一个PyTorch数据迭代器\"\"\"\n",
    "    dataset = data.TensorDataset(*data_arrays)#*表示接受任意多个参数并将其放在一个元组中\n",
    "    return data.DataLoader(dataset, batch_size, shuffle = is_train)\n",
    "\n",
    "batch_size = 10\n",
    "data_iter = load_array((features, labels), batch_size)\n",
    "next(iter(data_iter))#通过next函数得到一个X和一个y"
   ]
  },
  {
   "cell_type": "markdown",
   "id": "d1eddc26-a130-4a43-811f-81b26609910d",
   "metadata": {},
   "source": [
    "使用框架的预定义好的层"
   ]
  },
  {
   "cell_type": "code",
   "execution_count": 6,
   "id": "9d8fe7ca-0cc3-4cc0-a5e0-f947e546a84c",
   "metadata": {},
   "outputs": [
    {
     "data": {
      "text/plain": [
       "'\\nnn.Sequential创建了一个list of layers\\n输入是2维 输出是1维\\n'"
      ]
     },
     "execution_count": 6,
     "metadata": {},
     "output_type": "execute_result"
    }
   ],
   "source": [
    "# `nn`是神经网络的缩写\n",
    "from torch import nn\n",
    "net = nn.Sequential(nn.Linear(2, 1))\n",
    "\"\"\"\n",
    "nn.Sequential创建了一个list of layers\n",
    "输入是2维 输出是1维\n",
    "\"\"\""
   ]
  },
  {
   "cell_type": "markdown",
   "id": "e626e2ed-e740-489b-8d73-7b41dd2841a6",
   "metadata": {},
   "source": [
    "初始化模型参数"
   ]
  },
  {
   "cell_type": "code",
   "execution_count": 8,
   "id": "0366d9cf-2d93-41fe-a530-fe9c9319730c",
   "metadata": {},
   "outputs": [
    {
     "ename": "AttributeError",
     "evalue": "'Linear' object has no attribute 'bais'",
     "output_type": "error",
     "traceback": [
      "\u001b[0;31m---------------------------------------------------------------------------\u001b[0m",
      "\u001b[0;31mAttributeError\u001b[0m                            Traceback (most recent call last)",
      "Cell \u001b[0;32mIn[8], line 3\u001b[0m\n\u001b[1;32m      1\u001b[0m \u001b[38;5;66;03m#net[0]访问到nn.Linear(2, 1)\u001b[39;00m\n\u001b[1;32m      2\u001b[0m net[\u001b[38;5;241m0\u001b[39m]\u001b[38;5;241m.\u001b[39mweight\u001b[38;5;241m.\u001b[39mdata\u001b[38;5;241m.\u001b[39mnormal_(\u001b[38;5;241m0\u001b[39m,\u001b[38;5;241m0.01\u001b[39m)\u001b[38;5;66;03m#.weight访问到w，.data是真实data，normal_会使用正态分布替换掉data的值，两个参数是均值和方差\u001b[39;00m\n\u001b[0;32m----> 3\u001b[0m net[\u001b[38;5;241m0\u001b[39m]\u001b[38;5;241m.\u001b[39mbais\u001b[38;5;241m.\u001b[39mdata\u001b[38;5;241m.\u001b[39mfill_(\u001b[38;5;241m0\u001b[39m)\n",
      "File \u001b[0;32m/opt/anaconda3/lib/python3.12/site-packages/torch/nn/modules/module.py:1729\u001b[0m, in \u001b[0;36mModule.__getattr__\u001b[0;34m(self, name)\u001b[0m\n\u001b[1;32m   1727\u001b[0m     \u001b[38;5;28;01mif\u001b[39;00m name \u001b[38;5;129;01min\u001b[39;00m modules:\n\u001b[1;32m   1728\u001b[0m         \u001b[38;5;28;01mreturn\u001b[39;00m modules[name]\n\u001b[0;32m-> 1729\u001b[0m \u001b[38;5;28;01mraise\u001b[39;00m \u001b[38;5;167;01mAttributeError\u001b[39;00m(\u001b[38;5;124mf\u001b[39m\u001b[38;5;124m\"\u001b[39m\u001b[38;5;124m'\u001b[39m\u001b[38;5;132;01m{\u001b[39;00m\u001b[38;5;28mtype\u001b[39m(\u001b[38;5;28mself\u001b[39m)\u001b[38;5;241m.\u001b[39m\u001b[38;5;18m__name__\u001b[39m\u001b[38;5;132;01m}\u001b[39;00m\u001b[38;5;124m'\u001b[39m\u001b[38;5;124m object has no attribute \u001b[39m\u001b[38;5;124m'\u001b[39m\u001b[38;5;132;01m{\u001b[39;00mname\u001b[38;5;132;01m}\u001b[39;00m\u001b[38;5;124m'\u001b[39m\u001b[38;5;124m\"\u001b[39m)\n",
      "\u001b[0;31mAttributeError\u001b[0m: 'Linear' object has no attribute 'bais'"
     ]
    }
   ],
   "source": [
    "#net[0]访问到nn.Linear(2, 1)\n",
    "net[0].weight.data.normal_(0,0.01)#.weight访问到w，.data是真实data，normal_会使用正态分布替换掉data的值，两个参数是均值和方差\n",
    "net[0].bias.data.fill_(0)#bais是偏差"
   ]
  },
  {
   "cell_type": "code",
   "execution_count": null,
   "id": "01d8d94c-2abb-4c9c-8852-524f3b5c4191",
   "metadata": {},
   "outputs": [],
   "source": []
  }
 ],
 "metadata": {
  "kernelspec": {
   "display_name": "Python 3 (ipykernel)",
   "language": "python",
   "name": "python3"
  },
  "language_info": {
   "codemirror_mode": {
    "name": "ipython",
    "version": 3
   },
   "file_extension": ".py",
   "mimetype": "text/x-python",
   "name": "python",
   "nbconvert_exporter": "python",
   "pygments_lexer": "ipython3",
   "version": "3.12.4"
  }
 },
 "nbformat": 4,
 "nbformat_minor": 5
}
