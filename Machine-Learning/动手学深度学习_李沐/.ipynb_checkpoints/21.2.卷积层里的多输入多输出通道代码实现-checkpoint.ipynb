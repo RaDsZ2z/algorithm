{
 "cells": [
  {
   "cell_type": "markdown",
   "id": "50214894-3543-4a69-a809-e1afdc3c717f",
   "metadata": {},
   "source": [
    "# 1.输入与输出（使用自定义）"
   ]
  },
  {
   "cell_type": "code",
   "execution_count": 2,
   "id": "0dc497c0-14cd-43e8-8467-f9e01d44bf57",
   "metadata": {},
   "outputs": [
    {
     "name": "stdout",
     "output_type": "stream",
     "text": [
      "tensor([[ 56.,  72.],\n",
      "        [104., 120.]])\n",
      "torch.Size([2, 2, 2])\n",
      "torch.Size([2, 2, 2])\n",
      "torch.Size([2, 2, 2])\n",
      "tensor([[[0., 1.],\n",
      "         [2., 3.]],\n",
      "\n",
      "        [[1., 2.],\n",
      "         [3., 4.]]])\n",
      "tensor([[[1., 2.],\n",
      "         [3., 4.]],\n",
      "\n",
      "        [[2., 3.],\n",
      "         [4., 5.]]])\n",
      "torch.Size([3, 2, 2, 2])\n",
      "tensor([[[ 56.,  72.],\n",
      "         [104., 120.]],\n",
      "\n",
      "        [[ 76., 100.],\n",
      "         [148., 172.]],\n",
      "\n",
      "        [[ 96., 128.],\n",
      "         [192., 224.]]])\n"
     ]
    }
   ],
   "source": [
    "# 多输入通道互相关运算\n",
    "import torch\n",
    "from d2l import torch as d2l\n",
    "from torch import nn\n",
    "\n",
    "# 多通道输入运算\n",
    "def corr2d_multi_in(X,K):\n",
    "    return sum(d2l.corr2d(x,k) for x,k in zip(X,K)) # X,K为3通道矩阵，for使得对最外面通道进行遍历        \n",
    "\n",
    "X = torch.tensor([[[0.0,1.0,2.0],[3.0,4.0,5.0],[6.0,7.0,8.0]],\n",
    "                  [[1.0,2.0,3.0],[4.0,5.0,6.0],[7.0,8.0,9.0]]])\n",
    "K = torch.tensor([[[0.0,1.0],[2.0,3.0]],[[1.0,2.0],[3.0,4.0]]])\n",
    "print(corr2d_multi_in(X,K))\n",
    "\n",
    "# 多输出通道运算\n",
    "def corr2d_multi_in_out(X,K):  # X为3通道矩阵，K为4通道矩阵，最外面维为输出通道      \n",
    "    return torch.stack([corr2d_multi_in(X,k) for k in K],0) # 大k中每个小k是一个3D的Tensor。0表示stack堆叠函数里面在0这个维度堆叠。           \n",
    "\n",
    "print(K.shape)\n",
    "print((K+1).shape)\n",
    "print((K+2).shape)\n",
    "print(K)\n",
    "print(K+1)\n",
    "K = torch.stack((K, K+1, K+2),0) # K与K+1之间的区别为K的每个元素加1\n",
    "print(K.shape)\n",
    "print(corr2d_multi_in_out(X,K))"
   ]
  },
  {
   "cell_type": "markdown",
   "id": "25dd6056-7d4d-4502-a27e-c5b98aff4b44",
   "metadata": {},
   "source": [
    "# 2.1x1卷积（使用自定义）"
   ]
  },
  {
   "cell_type": "code",
   "execution_count": 4,
   "id": "eb7b5399-ccd1-43bc-af86-76c198e9305b",
   "metadata": {},
   "outputs": [
    {
     "name": "stdout",
     "output_type": "stream",
     "text": [
      "1.2293457984924316e-07\n"
     ]
    }
   ],
   "source": [
    "# 1×1卷积的多输入、多输出通道运算\n",
    "def corr2d_multi_in_out_1x1(X,K):\n",
    "    c_i, h, w = X.shape # 输入的通道数、宽、高\n",
    "    c_o = K.shape[0]    # 输出的通道数\n",
    "    X = X.reshape((c_i, h * w)) # 拉平操作，每一行表示一个通道的特征\n",
    "    K = K.reshape((c_o,c_i)) \n",
    "    Y = torch.matmul(K,X) \n",
    "    return Y.reshape((c_o, h, w))\n",
    "\n",
    "X = torch.normal(0,1,(3,3,3))   # norm函数生成0到1之间的(3,3,3)矩阵 \n",
    "K = torch.normal(0,1,(2,3,1,1)) # 输出通道是2，输入通道是3，核是1X1\n",
    "\n",
    "Y1 = corr2d_multi_in_out_1x1(X,K)\n",
    "Y2 = corr2d_multi_in_out(X,K)\n",
    "assert float(torch.abs(Y1-Y2).sum()) < 1e-6\n",
    "print(float(torch.abs(Y1-Y2).sum()))"
   ]
  },
  {
   "cell_type": "markdown",
   "id": "eedfe230-b96a-4a54-818c-420875cb67be",
   "metadata": {},
   "source": [
    "# 3.1x1卷积（使用框架）"
   ]
  },
  {
   "cell_type": "code",
   "execution_count": 6,
   "id": "f63e6d41-ea69-4ef4-acc8-a9f3a79d4cff",
   "metadata": {},
   "outputs": [
    {
     "name": "stdout",
     "output_type": "stream",
     "text": [
      "torch.Size([4, 4])\n",
      "torch.Size([2, 2])\n"
     ]
    }
   ],
   "source": [
    "def comp_conv2d(conv2d, X): # conv2d 作为传参传进去，在内部使用\n",
    "    X = X.reshape((1,1)+X.shape) # 在维度前面加入一个通道数和批量大小数\n",
    "    Y = conv2d(X)  # 卷积处理是一个四维的矩阵\n",
    "    return Y.reshape(Y.shape[2:]) # 将前面两个维度拿掉\n",
    "\n",
    "X = torch.rand(size=(8,8))\n",
    "conv2d = nn.Conv2d(1,1,kernel_size=3,padding=1,stride=2) # Pytorch里面卷积函数的第一个参数为输出通道，第二个参数为输入通道   \n",
    "print(comp_conv2d(conv2d,X).shape) \n",
    "\n",
    "conv2d = nn.Conv2d(1,1,kernel_size=(3,5),padding=(0,1),stride=(3,4)) # 一个稍微复杂的例子\n",
    "print(comp_conv2d(conv2d,X).shape)"
   ]
  }
 ],
 "metadata": {
  "kernelspec": {
   "display_name": "Python 3 (ipykernel)",
   "language": "python",
   "name": "python3"
  },
  "language_info": {
   "codemirror_mode": {
    "name": "ipython",
    "version": 3
   },
   "file_extension": ".py",
   "mimetype": "text/x-python",
   "name": "python",
   "nbconvert_exporter": "python",
   "pygments_lexer": "ipython3",
   "version": "3.12.4"
  }
 },
 "nbformat": 4,
 "nbformat_minor": 5
}
