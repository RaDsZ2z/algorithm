{
 "cells": [
  {
   "cell_type": "markdown",
   "id": "02649dd3-9724-4eaa-b7e8-aedba9a08381",
   "metadata": {},
   "source": [
    "# 07.2.自动求导实现\n",
    "假设想对函数 $y=2x^Tx$ 关于列向量 $x$ 求导"
   ]
  },
  {
   "cell_type": "code",
   "execution_count": 1,
   "id": "fb2fcaeb-8bcf-47b2-9331-4c3480175697",
   "metadata": {},
   "outputs": [
    {
     "data": {
      "text/plain": [
       "tensor([0., 1., 2., 3.])"
      ]
     },
     "execution_count": 1,
     "metadata": {},
     "output_type": "execute_result"
    }
   ],
   "source": [
    "import torch\n",
    "x = torch.arange(4.0)\n",
    "x"
   ]
  },
  {
   "cell_type": "code",
   "execution_count": 2,
   "id": "dd93a4af-5e57-4aaa-b222-03e93b39f925",
   "metadata": {},
   "outputs": [],
   "source": [
    "x.requires_grad_(True)\n",
    "#等价于 x = torch.arange(4.0,requeires_grad=True)\n",
    "x.grad #默认值是None"
   ]
  },
  {
   "cell_type": "code",
   "execution_count": 3,
   "id": "fe24889d-7c2e-4868-b9e0-8e4f9124b863",
   "metadata": {},
   "outputs": [
    {
     "data": {
      "text/plain": [
       "tensor(28., grad_fn=<MulBackward0>)"
      ]
     },
     "execution_count": 3,
     "metadata": {},
     "output_type": "execute_result"
    }
   ],
   "source": [
    "# y = 2 * x * x\n",
    "y = 2 * torch.dot(x,x) # 2 * (0*0 + 1*1 + 2*2 + 3*3)\n",
    "y"
   ]
  },
  {
   "cell_type": "code",
   "execution_count": 4,
   "id": "f5f9d732-b22b-4179-91fe-a55e56fe9862",
   "metadata": {},
   "outputs": [
    {
     "data": {
      "text/plain": [
       "tensor([ 0.,  4.,  8., 12.])"
      ]
     },
     "execution_count": 4,
     "metadata": {},
     "output_type": "execute_result"
    }
   ],
   "source": [
    "y.backward()\n",
    "x.grad # y' = 4*x"
   ]
  },
  {
   "cell_type": "code",
   "execution_count": 5,
   "id": "404060b7-903c-4115-982d-d6f74b985fdc",
   "metadata": {},
   "outputs": [
    {
     "data": {
      "text/plain": [
       "tensor([True, True, True, True])"
      ]
     },
     "execution_count": 5,
     "metadata": {},
     "output_type": "execute_result"
    }
   ],
   "source": [
    "x.grad == 4 * x"
   ]
  },
  {
   "cell_type": "code",
   "execution_count": 6,
   "id": "a3843849-9f4a-4d88-a224-2144f3d5d731",
   "metadata": {},
   "outputs": [
    {
     "data": {
      "text/plain": [
       "tensor([1., 1., 1., 1.])"
      ]
     },
     "execution_count": 6,
     "metadata": {},
     "output_type": "execute_result"
    }
   ],
   "source": [
    "x.grad.zero_() #如果不写这一行，新的梯度会累加到旧的梯度中\n",
    "y=x.sum()\n",
    "y.backward()\n",
    "x.grad # y' = 1"
   ]
  },
  {
   "cell_type": "code",
   "execution_count": 7,
   "id": "63b508d7-b279-4a24-b07f-a7351e0b60c1",
   "metadata": {},
   "outputs": [
    {
     "data": {
      "text/plain": [
       "tensor([0., 2., 4., 6.])"
      ]
     },
     "execution_count": 7,
     "metadata": {},
     "output_type": "execute_result"
    }
   ],
   "source": [
    "x.grad.zero_()\n",
    "y = x * x #这里*是对应位置元素相乘\n",
    "y.sum().backward()#等价于y.backward(torch.ones(len(x)))\n",
    "x.grad #y' = 2*x"
   ]
  },
  {
   "cell_type": "markdown",
   "id": "e014b783-3a43-47ec-a498-75089a908300",
   "metadata": {},
   "source": [
    "将某些计算移动到记录的计算图之外"
   ]
  },
  {
   "cell_type": "code",
   "execution_count": 8,
   "id": "5692ce81-6f2c-4fce-b870-80bc8a43102a",
   "metadata": {},
   "outputs": [
    {
     "name": "stdout",
     "output_type": "stream",
     "text": [
      "tensor([ 0.,  3., 12., 27.])\n",
      "tensor([0., 1., 4., 9.], grad_fn=<MulBackward0>)\n"
     ]
    }
   ],
   "source": [
    "x.grad.zero_()\n",
    "y = x * x\n",
    "u = y\n",
    "u.requires_grad_(True)\n",
    "z = u * x\n",
    "z.sum().backward()\n",
    "'''\n",
    "z = x^3\n",
    "z' = 3*x^2\n",
    "'''\n",
    "print(x.grad)\n",
    "# print(u.grad) #这一行会报错，求导结果只会保存在叶节点中，此处变量x是叶节点而u不是\n",
    "print(u)"
   ]
  },
  {
   "cell_type": "code",
   "execution_count": 9,
   "id": "d978ea7d-ab53-4e79-8617-67d38c142e7a",
   "metadata": {},
   "outputs": [
    {
     "name": "stdout",
     "output_type": "stream",
     "text": [
      "tensor([0., 1., 4., 9.])\n",
      "tensor([0., 1., 4., 9.])\n"
     ]
    }
   ],
   "source": [
    "x.grad.zero_()\n",
    "y = x * x\n",
    "u = y.detach()\n",
    "z = u * x\n",
    "z.sum().backward()\n",
    "'''\n",
    "z = u*x\n",
    "z' = u\n",
    "'''\n",
    "print(x.grad)\n",
    "print(u)"
   ]
  },
  {
   "cell_type": "code",
   "execution_count": 10,
   "id": "725a993e-6324-42c5-a35e-4b2c72129d0f",
   "metadata": {},
   "outputs": [
    {
     "data": {
      "text/plain": [
       "tensor([True, True, True, True])"
      ]
     },
     "execution_count": 10,
     "metadata": {},
     "output_type": "execute_result"
    }
   ],
   "source": [
    "'''\n",
    "上面z对x求导时，u被当成一个常数了\n",
    "但是y对x求导时，y仍然是一个关于x的函数\n",
    "'''\n",
    "x.grad.zero_()\n",
    "y.sum().backward()\n",
    "x.grad == 2 * x"
   ]
  }
 ],
 "metadata": {
  "kernelspec": {
   "display_name": "Python 3 (ipykernel)",
   "language": "python",
   "name": "python3"
  },
  "language_info": {
   "codemirror_mode": {
    "name": "ipython",
    "version": 3
   },
   "file_extension": ".py",
   "mimetype": "text/x-python",
   "name": "python",
   "nbconvert_exporter": "python",
   "pygments_lexer": "ipython3",
   "version": "3.12.7"
  }
 },
 "nbformat": 4,
 "nbformat_minor": 5
}
