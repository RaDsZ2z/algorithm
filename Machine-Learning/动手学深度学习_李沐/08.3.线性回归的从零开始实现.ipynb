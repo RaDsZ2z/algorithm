{
 "cells": [
  {
   "cell_type": "markdown",
   "id": "1ffdc260-a29b-43c9-ba7d-8d011d6893a6",
   "metadata": {},
   "source": [
    "# 08.3.线性回归的从零开始实现"
   ]
  },
  {
   "cell_type": "code",
   "execution_count": 1,
   "id": "0558497a-4cfd-4802-88f1-0003adeed90b",
   "metadata": {},
   "outputs": [],
   "source": [
    "%matplotlib inline\n",
    "import random\n",
    "import torch\n",
    "from d2l import torch as d2l"
   ]
  },
  {
   "cell_type": "code",
   "execution_count": 2,
   "id": "e51d81ef-ecac-49a1-810c-0ea2bc447284",
   "metadata": {},
   "outputs": [],
   "source": [
    "def synthetic_data(w, b, num_examples):\n",
    "    \"\"\"生成随机样本 y = Xw + b + 噪声\"\"\"\n",
    "    X = torch.normal(0,1,(num_examples,len(w)))#均值为0标准差为1 输出的张量形状是(num_examples,len(w)) 此处是1000个样本的特征，每个特征是2维向量\n",
    "    y = torch.matmul(X, w) + b #torch.matmul是矩阵乘法  重申：一维向量默认是列向量  得到张量形状是(num_examples,1)\n",
    "    y += torch.normal(0, 0.01, y.shape) #加上随机噪音  最终得到1000个样本的真实标签\n",
    "    return X, y.reshape((-1,1)) #-1表示自动计算,1表示1列，最终把y变成了一个若干行，1列的向量\n",
    "\n",
    "true_w = torch.tensor([2,-3.4])\n",
    "true_b = 4.2\n",
    "features, labels = synthetic_data(true_w, true_b, 1000) #生成1000个样本"
   ]
  },
  {
   "cell_type": "markdown",
   "id": "3c7888a5-b971-4725-a603-8801e9efb55e",
   "metadata": {},
   "source": [
    "`features`中的每一行都包含一个二维数据样本，`labels`中的每一行都包含一维标签值（一个标量）"
   ]
  },
  {
   "cell_type": "code",
   "execution_count": 3,
   "id": "c22a4746-c57b-47f8-9163-b31b33abcfeb",
   "metadata": {},
   "outputs": [
    {
     "name": "stdout",
     "output_type": "stream",
     "text": [
      " features: tensor([ 2.2578, -0.9404]) \n",
      " label: tensor([11.9291])\n",
      " feature shape: torch.Size([1000, 2]) \n",
      " label shape: torch.Size([1000, 1])\n"
     ]
    }
   ],
   "source": [
    "print(' features:',features[0],'\\n label:',labels[0])\n",
    "print(' feature shape:',features.shape,'\\n label shape:',labels.shape)"
   ]
  },
  {
   "cell_type": "markdown",
   "id": "899a9003-c206-41b7-8cbd-3c147251a612",
   "metadata": {},
   "source": [
    "定义一个`data_iter`函数，该函数接收批量大小、特征矩阵和标签向量作为输入，生成大小为`batch_size`的小批量"
   ]
  },
  {
   "cell_type": "code",
   "execution_count": 4,
   "id": "37c54f8a-f701-47c6-ae5e-61fd26f91daa",
   "metadata": {},
   "outputs": [
    {
     "name": "stdout",
     "output_type": "stream",
     "text": [
      "torch.Size([1000, 2])\n",
      "tensor([[ 1.4260, -2.4749],\n",
      "        [-1.3437, -0.5004],\n",
      "        [-0.3561, -1.4301],\n",
      "        [ 1.4783, -0.8653],\n",
      "        [ 1.0080,  0.2789],\n",
      "        [ 0.6965, -1.2602],\n",
      "        [-0.2273, -0.5347],\n",
      "        [-0.8374,  1.2519],\n",
      "        [ 1.0129, -0.6693],\n",
      "        [ 1.6862, -0.4169]]) \n",
      " tensor([[15.4553],\n",
      "        [ 3.2273],\n",
      "        [ 8.3551],\n",
      "        [10.1082],\n",
      "        [ 5.2476],\n",
      "        [ 9.8733],\n",
      "        [ 5.5421],\n",
      "        [-1.7237],\n",
      "        [ 8.4968],\n",
      "        [ 9.0103]])\n"
     ]
    }
   ],
   "source": [
    "def data_iter(batch_size, features, labels):\n",
    "    num_examples = len(features)\n",
    "    indices = list(range(num_examples))\n",
    "    #这些样本是随机读取的，没有特定的顺序\n",
    "    random.shuffle(indices)\n",
    "    for i in range(0, num_examples, batch_size):\n",
    "        batch_indices = torch.tensor(indices[i:min(i+batch_size,num_examples)]) #每一批的大小最大为batch_indices\n",
    "        yield features[batch_indices], labels[batch_indices]\n",
    "    \n",
    "batch_size = 10\n",
    "print(features.shape)\n",
    "for X, y in data_iter(batch_size, features, labels):\n",
    "    print(X,'\\n',y)\n",
    "    break"
   ]
  },
  {
   "cell_type": "markdown",
   "id": "675c7153-db43-43eb-b184-dc751fa1e569",
   "metadata": {},
   "source": [
    "定义初始化模型参数"
   ]
  },
  {
   "cell_type": "code",
   "execution_count": 5,
   "id": "4595d05c-c855-4dc4-9443-8762343c3d38",
   "metadata": {},
   "outputs": [],
   "source": [
    "w = torch.normal(0, 0.01, size=(2,1),requires_grad = True)\n",
    "b = torch.zeros(1,requires_grad = True)"
   ]
  },
  {
   "cell_type": "markdown",
   "id": "3aa13507-c89c-4088-b52a-4c12219259c0",
   "metadata": {},
   "source": [
    "定义模型"
   ]
  },
  {
   "cell_type": "code",
   "execution_count": 6,
   "id": "074630a9-3ea2-4d0d-be8c-57ac93bc7e45",
   "metadata": {},
   "outputs": [],
   "source": [
    "def linreg(X,w,b):\n",
    "    \"\"\"线性回归模型\"\"\"\n",
    "    return torch.matmul(X,w) + b"
   ]
  },
  {
   "cell_type": "markdown",
   "id": "2310f329-64cc-4fe0-adbc-8fdcb623631d",
   "metadata": {},
   "source": [
    "定义损失函数\n",
    "\n",
    "$l(\\mathbf{X,y,w},b)=\\frac{1}{2n} \\sum_{i=1}^{n}(y_i- (\\langle \\mathbf{x_i}, \\mathbf{w} \\rangle +b))^2 = \\frac{1}{2n}||\\mathbf{y-(Xw}+b)||^2$"
   ]
  },
  {
   "cell_type": "code",
   "execution_count": 7,
   "id": "003d751c-5fbf-4c77-b2df-d0f3e31566a8",
   "metadata": {},
   "outputs": [],
   "source": [
    "def squared_loss(y_hat, y):\n",
    "    \"\"\"均方损失\"\"\"\n",
    "    return (y_hat - y.reshape(y_hat.shape))**2 / (2 * batch_size)"
   ]
  },
  {
   "cell_type": "markdown",
   "id": "c71a672b-3080-4504-8d72-e7207c3a12cf",
   "metadata": {},
   "source": [
    "定义优化算法"
   ]
  },
  {
   "cell_type": "code",
   "execution_count": 8,
   "id": "dbee3a8f-719f-4a75-b7f9-c7e1cf6809e3",
   "metadata": {},
   "outputs": [],
   "source": [
    "def sgd(params, lr, batch_size):\n",
    "    \"\"\"小批量随机梯度下降\"\"\"\n",
    "    with torch.no_grad():#在这里面发生的计算不会影响梯度传播\n",
    "        for param in params:\n",
    "            param -= lr * param.grad #如果squared_loss函数里没有除以batch_size 就要在这里做\n",
    "            param.grad.zero_()#清除梯度 不清除会导致梯度累加 结果不正确"
   ]
  },
  {
   "cell_type": "markdown",
   "id": "ada8716b-968d-4004-8ac6-44daba5f9ea1",
   "metadata": {},
   "source": [
    "训练过程"
   ]
  },
  {
   "cell_type": "code",
   "execution_count": 9,
   "id": "da1ac240-6009-4bf1-b460-13b6d735589c",
   "metadata": {},
   "outputs": [
    {
     "name": "stdout",
     "output_type": "stream",
     "text": [
      "tensor([0.], requires_grad=True)\n",
      "epoch 1, loss 0.003740\n",
      "epoch 2, loss 0.000014\n",
      "epoch 3, loss 0.000005\n"
     ]
    }
   ],
   "source": [
    "lr = 0.03\n",
    "num_epochs = 3 #将整个数据集扫三遍\n",
    "net = linreg  #返回预测的y值\n",
    "loss = squared_loss\n",
    "print(b)\n",
    "for epoch in range(num_epochs):\n",
    "    for X, y in data_iter(batch_size, features, labels):\n",
    "        l = loss(net(X, w, b), y) #`X`和`y`的最小批损失\n",
    "        # 因为l形状是(batch_size,1)，而不是一个标量。l中的所有元素被加到一起，\n",
    "        # 并以此计算关于[w,b]的梯度\n",
    "        l.sum().backward()\n",
    "        sgd([w, b], lr, batch_size)  # 使用参数的梯度更新参数\n",
    "\n",
    "    with torch.no_grad():\n",
    "        train_l = loss(net(features, w, b), labels)\n",
    "        print(f'epoch {epoch + 1}, loss {float(train_l.mean()):f}')\n"
   ]
  },
  {
   "cell_type": "markdown",
   "id": "129452c4-5f11-4188-bf11-369d6ff45f9c",
   "metadata": {},
   "source": [
    "比较真实参数和通过训练学到的参数来评估训练的成功程度"
   ]
  },
  {
   "cell_type": "code",
   "execution_count": 10,
   "id": "f12b649e-939e-4ac1-a530-4179960c6480",
   "metadata": {},
   "outputs": [
    {
     "name": "stdout",
     "output_type": "stream",
     "text": [
      "w的估计误差: tensor([ 0.0002, -0.0004], grad_fn=<SubBackward0>)\n",
      "b的估计误差: tensor([0.0001], grad_fn=<RsubBackward1>)\n"
     ]
    }
   ],
   "source": [
    "print(f'w的估计误差: {true_w - w.reshape(true_w.shape)}')\n",
    "print(f'b的估计误差: {true_b - b}')"
   ]
  },
  {
   "cell_type": "markdown",
   "id": "1c0cc8b7-581c-4890-b84b-168917bae890",
   "metadata": {},
   "source": [
    "“每一次计算梯度要对整个损失函数求导，损失函数是所有样本的平均损失。这意味着每求一次梯度要把整个样本重新算一遍，计算代价大。”\n",
    "求梯度要先就是对损失函数求导，示例代码中每一次求梯度时，损失函数只跟`batch_size`个样本相关，大大减小了计算量  \n",
    "\n",
    "---------------------------"
   ]
  },
  {
   "cell_type": "markdown",
   "id": "89cc03f7-e6d6-4a45-b889-18afa21b03b7",
   "metadata": {},
   "source": [
    "\n",
    "简单讨论，为什么自变量减去导数值的正数倍是函数值减小的方向，好像和牛顿迭代法有相似之处？  \n",
    "考虑 $y=x^2$ 的图像，在函数图像上选择随机起点，现在想要找到极值点。  \n",
    "牛顿迭代法做函数图像切线与x轴相交，找到新的x值。  \n",
    "当导数值大于0时，x点向左偏移（x值变小）  \n",
    "当导数值小于0时，x点向右偏移（x值变大）  \n",
    "相当于，当导数值小于0时，应该使x值增大，反之应该使x值减小，这与减去导数值的正数倍数的做法是匹配的"
   ]
  }
 ],
 "metadata": {
  "kernelspec": {
   "display_name": "Python 3 (ipykernel)",
   "language": "python",
   "name": "python3"
  },
  "language_info": {
   "codemirror_mode": {
    "name": "ipython",
    "version": 3
   },
   "file_extension": ".py",
   "mimetype": "text/x-python",
   "name": "python",
   "nbconvert_exporter": "python",
   "pygments_lexer": "ipython3",
   "version": "3.12.7"
  }
 },
 "nbformat": 4,
 "nbformat_minor": 5
}
