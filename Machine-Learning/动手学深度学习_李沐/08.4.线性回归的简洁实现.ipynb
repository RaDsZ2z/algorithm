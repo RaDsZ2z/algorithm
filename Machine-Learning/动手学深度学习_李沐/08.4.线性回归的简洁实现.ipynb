{
 "cells": [
  {
   "cell_type": "markdown",
   "id": "390b1b6b-0a80-4f06-b76c-72416270b255",
   "metadata": {},
   "source": [
    "# 08.4.线性回归的简洁实现\n",
    "通过使用深度学习框架来简洁地实现线性回归模型生成数据集\n",
    "\n",
    "**这段代码除了使用d2l生成了随机的训练集，其它部分都是可以在其它地方复用的**"
   ]
  },
  {
   "cell_type": "code",
   "execution_count": 1,
   "id": "423b8204-44c7-47cb-82c5-6c3ee22ebe2b",
   "metadata": {},
   "outputs": [
    {
     "name": "stdout",
     "output_type": "stream",
     "text": [
      "torch.Size([1000, 2])\n",
      "-------------\n",
      "torch.Size([1000, 1])\n"
     ]
    }
   ],
   "source": [
    "import numpy as np\n",
    "import torch\n",
    "from torch.utils import data\n",
    "from d2l import torch as d2l\n",
    "\n",
    "true_w = torch.tensor([2, -3.4])\n",
    "true_b = 4.2\n",
    "features, labels = d2l.synthetic_data(true_w, true_b, 1000)\n",
    "print(features.shape)\n",
    "print('-------------')\n",
    "print(labels.shape)"
   ]
  },
  {
   "cell_type": "markdown",
   "id": "f60f2fdf-0cd8-4393-bc64-65e41b536362",
   "metadata": {},
   "source": [
    "调用框架中现有的API来读取数据"
   ]
  },
  {
   "cell_type": "code",
   "execution_count": 2,
   "id": "95c2f91b-4e49-4278-b0f1-04950ee8f93b",
   "metadata": {},
   "outputs": [
    {
     "data": {
      "text/plain": [
       "[tensor([[-0.8043, -0.6604],\n",
       "         [ 2.3337,  0.7962],\n",
       "         [ 0.1063,  1.3691],\n",
       "         [-0.2566, -0.5060],\n",
       "         [-0.3702, -1.5404],\n",
       "         [-1.8031, -0.4266],\n",
       "         [ 0.7231, -0.8670],\n",
       "         [-0.6818, -0.8323],\n",
       "         [ 0.5636,  1.2887],\n",
       "         [ 0.2712,  1.2440]]),\n",
       " tensor([[ 4.8527],\n",
       "         [ 6.1428],\n",
       "         [-0.2266],\n",
       "         [ 5.4034],\n",
       "         [ 8.7058],\n",
       "         [ 2.0459],\n",
       "         [ 8.5902],\n",
       "         [ 5.6584],\n",
       "         [ 0.9451],\n",
       "         [ 0.5077]])]"
      ]
     },
     "execution_count": 2,
     "metadata": {},
     "output_type": "execute_result"
    }
   ],
   "source": [
    "def load_array(data_arrays, batch_size, is_train = True):\n",
    "    \"\"\"构造一个PyTorch数据迭代器\"\"\"\n",
    "    dataset = data.TensorDataset(*data_arrays)#*表示接受任意多个参数并将其放在一个元组中\n",
    "    return data.DataLoader(dataset, batch_size, shuffle = is_train) #从dataset中随机取batch_size个元素并返回\n",
    "\n",
    "batch_size = 10\n",
    "data_iter = load_array((features, labels), batch_size)\n",
    "next(iter(data_iter))#通过next函数得到一个X和一个y"
   ]
  },
  {
   "cell_type": "markdown",
   "id": "d1eddc26-a130-4a43-811f-81b26609910d",
   "metadata": {},
   "source": [
    "使用框架的预定义好的层"
   ]
  },
  {
   "cell_type": "code",
   "execution_count": 3,
   "id": "9d8fe7ca-0cc3-4cc0-a5e0-f947e546a84c",
   "metadata": {},
   "outputs": [],
   "source": [
    "# `nn`是神经网络的缩写\n",
    "from torch import nn\n",
    "\"\"\"\n",
    "nn.Sequential创建了一个list of layers\n",
    "输入是2维 输出是1维\n",
    "\"\"\"\n",
    "net = nn.Sequential(nn.Linear(2, 1))\n"
   ]
  },
  {
   "cell_type": "markdown",
   "id": "e626e2ed-e740-489b-8d73-7b41dd2841a6",
   "metadata": {},
   "source": [
    "初始化模型参数"
   ]
  },
  {
   "cell_type": "code",
   "execution_count": 4,
   "id": "0366d9cf-2d93-41fe-a530-fe9c9319730c",
   "metadata": {},
   "outputs": [
    {
     "data": {
      "text/plain": [
       "tensor([0.])"
      ]
     },
     "execution_count": 4,
     "metadata": {},
     "output_type": "execute_result"
    }
   ],
   "source": [
    "#net[0]访问到nn.Linear(2, 1)\n",
    "net[0].weight.data.normal_(0,0.01)#.weight访问到w，.data是真实data，normal_会使用正态分布替换掉data的值，两个参数是均值和方差\n",
    "net[0].bias.data.fill_(0)#bais是偏差1\n",
    "#上面两行相当于是在设置w和b w(向量)里各元素设置为均值为0，方差为0.01的随机数 b设置为0"
   ]
  },
  {
   "cell_type": "markdown",
   "id": "b9fcfcb5-b276-4b86-8d1c-85bdf5f328f5",
   "metadata": {},
   "source": [
    "计算均方误差使用的是`MSELoss`类，也称为平方范数"
   ]
  },
  {
   "cell_type": "code",
   "execution_count": 5,
   "id": "9dbdd942-c6a5-432d-9262-a42541b2a470",
   "metadata": {},
   "outputs": [],
   "source": [
    "loss = nn.MSELoss()#均方损失已经被封装好了"
   ]
  },
  {
   "cell_type": "markdown",
   "id": "ebd835d3-b30a-479c-a42e-42aa4cda4af9",
   "metadata": {},
   "source": [
    "实例化`SGD`实例"
   ]
  },
  {
   "cell_type": "code",
   "execution_count": 6,
   "id": "4f0b0af6-9553-4117-9c92-73c818b3b846",
   "metadata": {},
   "outputs": [],
   "source": [
    "trainer = torch.optim.SGD(net.parameters(), lr=0.03) #小批量随机梯度下降也被包装好了\n",
    "#net.parameters()获得所有参数包括`w`和`b` lr是学习率"
   ]
  },
  {
   "cell_type": "code",
   "execution_count": 7,
   "id": "01f4c81b-2b4e-4b26-b462-77b8a8767292",
   "metadata": {},
   "outputs": [
    {
     "name": "stdout",
     "output_type": "stream",
     "text": [
      "epoch 1, loss 0.000286\n",
      "epoch 2, loss 0.000097\n",
      "epoch 3, loss 0.000098\n"
     ]
    }
   ],
   "source": [
    "num_epochs = 3\n",
    "for epoch in range(num_epochs):\n",
    "    for X,y in data_iter:\n",
    "        l = loss(net(X), y)\n",
    "        trainer.zero_grad()\n",
    "        l.backward()\n",
    "        trainer.step()# 更新参数\n",
    "    l = loss(net(features), labels)\n",
    "    print(f'epoch {epoch + 1}, loss {l:f}')\n"
   ]
  },
  {
   "cell_type": "code",
   "execution_count": 8,
   "id": "795f06d2-b370-4c1b-b5c4-f29688242e5b",
   "metadata": {},
   "outputs": [
    {
     "name": "stdout",
     "output_type": "stream",
     "text": [
      "tensor([[ 1.9997, -3.4009]])\n",
      "tensor([4.1988])\n"
     ]
    }
   ],
   "source": [
    "# 查看最终的w和b\n",
    "print(net[0].weight.data)\n",
    "print(net[0].bias.data)"
   ]
  }
 ],
 "metadata": {
  "kernelspec": {
   "display_name": "Python 3 (ipykernel)",
   "language": "python",
   "name": "python3"
  },
  "language_info": {
   "codemirror_mode": {
    "name": "ipython",
    "version": 3
   },
   "file_extension": ".py",
   "mimetype": "text/x-python",
   "name": "python",
   "nbconvert_exporter": "python",
   "pygments_lexer": "ipython3",
   "version": "3.12.7"
  }
 },
 "nbformat": 4,
 "nbformat_minor": 5
}
