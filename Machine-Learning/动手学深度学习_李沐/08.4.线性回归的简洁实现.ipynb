{
 "cells": [
  {
   "cell_type": "markdown",
   "id": "390b1b6b-0a80-4f06-b76c-72416270b255",
   "metadata": {},
   "source": [
    "# 08.4.线性回归的简洁实现\n",
    "通过使用深度学习框架来简洁地实现线性回归模型生成数据集"
   ]
  },
  {
   "cell_type": "code",
   "execution_count": 2,
   "id": "423b8204-44c7-47cb-82c5-6c3ee22ebe2b",
   "metadata": {},
   "outputs": [],
   "source": [
    "import numpy as np\n",
    "import torch\n",
    "from torch.utils import data\n",
    "from d2l import torch as d2l\n",
    "\n",
    "true_w = torch.tensor([2, -3.4])\n",
    "true_b = 4.2\n",
    "features, labels = d2l.synthetic_data(true_w, true_b, 1000)"
   ]
  },
  {
   "cell_type": "markdown",
   "id": "f60f2fdf-0cd8-4393-bc64-65e41b536362",
   "metadata": {},
   "source": [
    "调用框架中现有的API来读取数据"
   ]
  },
  {
   "cell_type": "code",
   "execution_count": 4,
   "id": "95c2f91b-4e49-4278-b0f1-04950ee8f93b",
   "metadata": {},
   "outputs": [
    {
     "data": {
      "text/plain": [
       "[tensor([[-3.9289e-01, -1.0004e+00],\n",
       "         [ 5.6753e-01,  6.1301e-01],\n",
       "         [-1.0358e+00,  5.2048e-04],\n",
       "         [ 6.8224e-01, -1.2040e+00],\n",
       "         [ 3.1840e-01, -1.8332e+00],\n",
       "         [ 1.1220e+00, -2.2689e-01],\n",
       "         [ 3.2423e-01,  2.7913e-01],\n",
       "         [-3.6689e-01, -1.2123e+00],\n",
       "         [ 2.0974e-01,  3.2510e-01],\n",
       "         [-1.2308e+00,  6.1364e-01]]),\n",
       " tensor([[ 6.8274],\n",
       "         [ 3.2543],\n",
       "         [ 2.1131],\n",
       "         [ 9.6555],\n",
       "         [11.0763],\n",
       "         [ 7.2036],\n",
       "         [ 3.9030],\n",
       "         [ 7.6003],\n",
       "         [ 3.5112],\n",
       "         [-0.3437]])]"
      ]
     },
     "execution_count": 4,
     "metadata": {},
     "output_type": "execute_result"
    }
   ],
   "source": [
    "def load_array(data_arrays, batch_size, is_train = True):\n",
    "    \"\"\"构造一个PyTorch数据迭代器\"\"\"\n",
    "    dataset = data.TensorDataset(*data_arrays)#*表示接受任意多个参数并将其放在一个元组中\n",
    "    return data.DataLoader(dataset, batch_size, shuffle = is_train)\n",
    "\n",
    "batch_size = 10\n",
    "data_iter = load_array((features, labels), batch_size)\n",
    "next(iter(data_iter))#通过next函数得到一个X和一个y"
   ]
  },
  {
   "cell_type": "markdown",
   "id": "d1eddc26-a130-4a43-811f-81b26609910d",
   "metadata": {},
   "source": [
    "使用框架的预定义好的层"
   ]
  },
  {
   "cell_type": "code",
   "execution_count": 12,
   "id": "9d8fe7ca-0cc3-4cc0-a5e0-f947e546a84c",
   "metadata": {},
   "outputs": [],
   "source": [
    "# `nn`是神经网络的缩写\n",
    "from torch import nn\n",
    "\"\"\"\n",
    "nn.Sequential创建了一个list of layers\n",
    "输入是2维 输出是1维\n",
    "\"\"\"\n",
    "net = nn.Sequential(nn.Linear(2, 1))\n"
   ]
  },
  {
   "cell_type": "markdown",
   "id": "e626e2ed-e740-489b-8d73-7b41dd2841a6",
   "metadata": {},
   "source": [
    "初始化模型参数"
   ]
  },
  {
   "cell_type": "code",
   "execution_count": 10,
   "id": "0366d9cf-2d93-41fe-a530-fe9c9319730c",
   "metadata": {},
   "outputs": [
    {
     "data": {
      "text/plain": [
       "tensor([0.])"
      ]
     },
     "execution_count": 10,
     "metadata": {},
     "output_type": "execute_result"
    }
   ],
   "source": [
    "#net[0]访问到nn.Linear(2, 1)\n",
    "net[0].weight.data.normal_(0,0.01)#.weight访问到w，.data是真实data，normal_会使用正态分布替换掉data的值，两个参数是均值和方差\n",
    "net[0].bias.data.fill_(0)#bais是偏差1"
   ]
  },
  {
   "cell_type": "markdown",
   "id": "b9fcfcb5-b276-4b86-8d1c-85bdf5f328f5",
   "metadata": {},
   "source": [
    "计算均方误差使用的是`MSELoss`类，也称为平方范数"
   ]
  },
  {
   "cell_type": "code",
   "execution_count": 17,
   "id": "9dbdd942-c6a5-432d-9262-a42541b2a470",
   "metadata": {},
   "outputs": [],
   "source": [
    "loss = nn.MSELoss()"
   ]
  },
  {
   "cell_type": "markdown",
   "id": "ebd835d3-b30a-479c-a42e-42aa4cda4af9",
   "metadata": {},
   "source": [
    "实例化`SGD`实例"
   ]
  },
  {
   "cell_type": "code",
   "execution_count": 20,
   "id": "4f0b0af6-9553-4117-9c92-73c818b3b846",
   "metadata": {},
   "outputs": [],
   "source": [
    "trainer = torch.optim.SGD(net.parameters(), lr=0.03)\n",
    "#net.parameters()获得所有参数包括`w`和`b` lr是学习率"
   ]
  },
  {
   "cell_type": "code",
   "execution_count": 40,
   "id": "01f4c81b-2b4e-4b26-b462-77b8a8767292",
   "metadata": {},
   "outputs": [
    {
     "name": "stdout",
     "output_type": "stream",
     "text": [
      "epoch 1, loss 0.000107\n",
      "epoch 2, loss 0.000109\n",
      "epoch 3, loss 0.000107\n"
     ]
    }
   ],
   "source": [
    "num_epochs = 3\n",
    "for epoch in range(num_epochs):\n",
    "    for X,y in data_iter:\n",
    "        l = loss(net(X), y)\n",
    "        trainer.zero_grad()\n",
    "        l.backward()\n",
    "        trainer.step()\n",
    "    l = loss(net(features), labels)\n",
    "    print(f'epoch {epoch + 1}, loss {l:f}')"
   ]
  }
 ],
 "metadata": {
  "kernelspec": {
   "display_name": "Python 3 (ipykernel)",
   "language": "python",
   "name": "python3"
  },
  "language_info": {
   "codemirror_mode": {
    "name": "ipython",
    "version": 3
   },
   "file_extension": ".py",
   "mimetype": "text/x-python",
   "name": "python",
   "nbconvert_exporter": "python",
   "pygments_lexer": "ipython3",
   "version": "3.12.4"
  }
 },
 "nbformat": 4,
 "nbformat_minor": 5
}
