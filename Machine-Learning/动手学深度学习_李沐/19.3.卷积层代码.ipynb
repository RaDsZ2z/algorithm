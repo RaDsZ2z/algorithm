{
 "cells": [
  {
   "cell_type": "code",
   "execution_count": 1,
   "id": "27971e37-7299-4ad6-971f-0cf06e78b99a",
   "metadata": {},
   "outputs": [
    {
     "data": {
      "text/plain": [
       "tensor([[19., 25.],\n",
       "        [37., 43.]])"
      ]
     },
     "execution_count": 1,
     "metadata": {},
     "output_type": "execute_result"
    }
   ],
   "source": [
    "# 互相关运算\n",
    "import torch\n",
    "from torch import nn\n",
    "from d2l import torch as d2l\n",
    "\n",
    "def corr2d(X, K):   # X 为输入，K为核矩阵\n",
    "    \"\"\"计算二维互相关信息\"\"\"\n",
    "    h, w = K.shape  # 核矩阵的行数和列数\n",
    "    Y = torch.zeros((X.shape[0] - h + 1, X.shape[1] - w + 1)) # X.shape[0]为输入高    \n",
    "    for i in range(Y.shape[0]):\n",
    "        for j in range(Y.shape[1]):\n",
    "            Y[i, j] = (X[i:i + h, j:j + w] * K).sum() # 图片的小方块区域与卷积核做点积\n",
    "    return Y\n",
    "\n",
    "# 验证上述二维互相关运算的输出\n",
    "X = torch.tensor([[0.0,1.0,2.0],[3.0,4.0,5.0],[6.0,7.0,8.0]])\n",
    "K = torch.tensor([[0.0,1.0],[2.0,3.0]])\n",
    "corr2d(X,K)"
   ]
  },
  {
   "cell_type": "code",
   "execution_count": 2,
   "id": "7f0daa93-cd62-4286-ab73-4f9f115448bf",
   "metadata": {},
   "outputs": [
    {
     "name": "stdout",
     "output_type": "stream",
     "text": [
      "tensor([[1., 1., 0., 0., 0., 0., 1., 1.],\n",
      "        [1., 1., 0., 0., 0., 0., 1., 1.],\n",
      "        [1., 1., 0., 0., 0., 0., 1., 1.],\n",
      "        [1., 1., 0., 0., 0., 0., 1., 1.],\n",
      "        [1., 1., 0., 0., 0., 0., 1., 1.],\n",
      "        [1., 1., 0., 0., 0., 0., 1., 1.]])\n",
      "tensor([[ 0.,  1.,  0.,  0.,  0., -1.,  0.],\n",
      "        [ 0.,  1.,  0.,  0.,  0., -1.,  0.],\n",
      "        [ 0.,  1.,  0.,  0.,  0., -1.,  0.],\n",
      "        [ 0.,  1.,  0.,  0.,  0., -1.,  0.],\n",
      "        [ 0.,  1.,  0.,  0.,  0., -1.,  0.],\n",
      "        [ 0.,  1.,  0.,  0.,  0., -1.,  0.]])\n",
      "tensor([[0., 0., 0., 0., 0.],\n",
      "        [0., 0., 0., 0., 0.],\n",
      "        [0., 0., 0., 0., 0.],\n",
      "        [0., 0., 0., 0., 0.],\n",
      "        [0., 0., 0., 0., 0.],\n",
      "        [0., 0., 0., 0., 0.],\n",
      "        [0., 0., 0., 0., 0.],\n",
      "        [0., 0., 0., 0., 0.]])\n"
     ]
    }
   ],
   "source": [
    "# 实现二维卷积层\n",
    "# class Conv2D(nn.Module):\n",
    "#     def __init__(self, kernel_size):\n",
    "#         self.weight = nn.Parameter(torch.rand(kernel_size))\n",
    "#         self.bias = nn.Parameter(torch.zeros(1))\n",
    "        \n",
    "#     def forward(Self, x):\n",
    "#         return corr2d(x, self.weight) + self.bias\n",
    "    \n",
    "# 卷积层的一个简单应用：检测图片中不同颜色的边缘\n",
    "X = torch.ones((6,8))\n",
    "X[:,2:6] = 0  # 把中间四列设置为0\n",
    "print(X)  # 0 与 1 之间进行过渡，表示边缘\n",
    "\n",
    "K = torch.tensor([[1.0,-1.0]])  # 如果左右原值相等，那么这两原值乘1和-1相加为0，则不是边缘\n",
    "Y = corr2d(X, K)\n",
    "print(Y)\n",
    "print(corr2d(X.t(), K)) # X.t() 为X的转置，而K卷积核只能检测垂直边缘"
   ]
  },
  {
   "cell_type": "code",
   "execution_count": 3,
   "id": "3062a7cc-c75c-4961-bf44-b05166bccf98",
   "metadata": {},
   "outputs": [
    {
     "name": "stdout",
     "output_type": "stream",
     "text": [
      "batch 2,loss 10.827\n",
      "batch 4,loss 1.834\n",
      "batch 6,loss 0.315\n",
      "batch 8,loss 0.056\n",
      "batch 10,loss 0.011\n",
      "tensor([[ 0.9782, -0.9877]])\n"
     ]
    }
   ],
   "source": [
    "# 学习由X生成Y的卷积核\n",
    "conv2d = nn.Conv2d(1, 1, kernel_size=(1,2), bias=False) # 单个矩阵，输入通道为1，黑白图片通道为1，彩色图片通道为3。这里输入通道为1，输出通道为1.   \n",
    "X = X.reshape((1,1,6,8)) # 通道维：通道数，RGB图3通道，灰度图1通道，批量维就是样本维，就是样本数\n",
    "Y = Y.reshape((1,1,6,7))\n",
    "for i in range(10):\n",
    "    Y_hat = conv2d(X)\n",
    "    l = (Y_hat - Y) ** 2\n",
    "    conv2d.zero_grad()\n",
    "    l.sum().backward()\n",
    "    conv2d.weight.data[:] -= 3e-2 * conv2d.weight.grad # 3e-2是学习率\n",
    "    if(i+1) % 2 == 0:\n",
    "        print(f'batch {i+1},loss {l.sum():.3f}')\n",
    "\n",
    "# 所学的卷积核的权重张量\n",
    "print(conv2d.weight.data.reshape((1,2)))"
   ]
  }
 ],
 "metadata": {
  "kernelspec": {
   "display_name": "Python 3 (ipykernel)",
   "language": "python",
   "name": "python3"
  },
  "language_info": {
   "codemirror_mode": {
    "name": "ipython",
    "version": 3
   },
   "file_extension": ".py",
   "mimetype": "text/x-python",
   "name": "python",
   "nbconvert_exporter": "python",
   "pygments_lexer": "ipython3",
   "version": "3.12.7"
  }
 },
 "nbformat": 4,
 "nbformat_minor": 5
}
