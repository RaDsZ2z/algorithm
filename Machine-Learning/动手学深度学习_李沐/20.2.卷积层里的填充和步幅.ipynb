{
 "cells": [
  {
   "cell_type": "code",
   "execution_count": 1,
   "id": "1153d691-2403-4d16-af4b-e4987b55b23f",
   "metadata": {},
   "outputs": [
    {
     "name": "stdout",
     "output_type": "stream",
     "text": [
      "torch.Size([8, 8])\n",
      "torch.Size([8, 8])\n",
      "torch.Size([4, 4])\n",
      "torch.Size([2, 2])\n"
     ]
    }
   ],
   "source": [
    "# 在所有侧边填充1个像素\n",
    "import torch\n",
    "from torch import nn\n",
    "\n",
    "def comp_conv2d(conv2d, X): # conv2d 作为传参传进去，在内部使用\n",
    "    X = X.reshape((1,1)+X.shape) # 在维度前面加入一个通道数和批量大小数\n",
    "    Y = conv2d(X)  # 卷积处理是一个四维的矩阵\n",
    "    return Y.reshape(Y.shape[2:]) # 将前面两个维度拿掉\n",
    "\n",
    "conv2d = nn.Conv2d(1,1,kernel_size=3,padding=1) # padding=1 为左右都填充一行\n",
    "X = torch.rand(size=(8,8))\n",
    "print(comp_conv2d(conv2d,X).shape)\n",
    "conv2d = nn.Conv2d(1,1,kernel_size=(5,3),padding=(2,1))\n",
    "print(comp_conv2d(conv2d,X).shape)\n",
    "\n",
    "# 将高度和宽度的步幅设置为2\n",
    "conv2d = nn.Conv2d(1,1,kernel_size=3,padding=1,stride=2)\n",
    "print(comp_conv2d(conv2d,X).shape)\n",
    "\n",
    "# 一个稍微复杂的例子\n",
    "conv2d = nn.Conv2d(1,1,kernel_size=(3,5),padding=(0,1),stride=(3,4))\n",
    "print(comp_conv2d(conv2d,X).shape)"
   ]
  }
 ],
 "metadata": {
  "kernelspec": {
   "display_name": "Python 3 (ipykernel)",
   "language": "python",
   "name": "python3"
  },
  "language_info": {
   "codemirror_mode": {
    "name": "ipython",
    "version": 3
   },
   "file_extension": ".py",
   "mimetype": "text/x-python",
   "name": "python",
   "nbconvert_exporter": "python",
   "pygments_lexer": "ipython3",
   "version": "3.12.4"
  }
 },
 "nbformat": 4,
 "nbformat_minor": 5
}
