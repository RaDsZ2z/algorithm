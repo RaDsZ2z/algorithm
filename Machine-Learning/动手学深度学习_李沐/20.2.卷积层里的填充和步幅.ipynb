{
 "cells": [
  {
   "cell_type": "code",
   "execution_count": 1,
   "id": "1153d691-2403-4d16-af4b-e4987b55b23f",
   "metadata": {},
   "outputs": [
    {
     "name": "stdout",
     "output_type": "stream",
     "text": [
      "卷积核初始权重: tensor([[[[-0.2228,  0.1523,  0.2649],\n",
      "          [ 0.2354, -0.2862, -0.1100],\n",
      "          [-0.0175,  0.3163,  0.0373]]]])\n",
      "torch.Size([8, 8])\n",
      "torch.Size([8, 8])\n",
      "torch.Size([4, 4])\n",
      "torch.Size([2, 2])\n"
     ]
    }
   ],
   "source": [
    "# 在所有侧边填充1个像素\n",
    "import torch\n",
    "from torch import nn\n",
    "\n",
    "def comp_conv2d(conv2d, X): # conv2d 作为传参传进去，在内部使用\n",
    "    X = X.reshape((1,1)+X.shape) # 在维度前面加入一个通道数和批量大小数\n",
    "    Y = conv2d(X)  # 卷积处理是一个四维的矩阵\n",
    "    return Y.reshape(Y.shape[2:]) # 将前面两个维度拿掉\n",
    "\n",
    "conv2d = nn.Conv2d(1,1,kernel_size=3,padding=1) # padding=1 为左右都填充一行\n",
    "print(\"卷积核初始权重:\", conv2d.weight.data)\n",
    "X = torch.rand(size=(8,8))\n",
    "print(comp_conv2d(conv2d,X).shape)\n",
    "conv2d = nn.Conv2d(1,1,kernel_size=(5,3),padding=(2,1))\n",
    "print(comp_conv2d(conv2d,X).shape)\n",
    "\n",
    "# 将高度和宽度的步幅设置为2\n",
    "conv2d = nn.Conv2d(1,1,kernel_size=3,padding=1,stride=2)\n",
    "print(comp_conv2d(conv2d,X).shape)\n",
    "\n",
    "# 一个稍微复杂的例子\n",
    "conv2d = nn.Conv2d(1,1,kernel_size=(3,5),padding=(0,1),stride=(3,4))\n",
    "print(comp_conv2d(conv2d,X).shape)"
   ]
  },
  {
   "cell_type": "code",
   "execution_count": 2,
   "id": "3564a49f-f3f6-4b99-8f8c-79c5ed784ff9",
   "metadata": {},
   "outputs": [
    {
     "name": "stdout",
     "output_type": "stream",
     "text": [
      "torch.Size([1, 16, 32, 32])\n"
     ]
    }
   ],
   "source": [
    "# 创建一个 Conv2d 层\n",
    "conv_layer = nn.Conv2d(in_channels=3, out_channels=16, kernel_size=3, stride=1, padding=1)\n",
    "\n",
    "# 输入数据（例如，一张 3 通道的 32x32 图像）\n",
    "input_data = torch.randn(1, 3, 32, 32)  # 批量大小为 1\n",
    "\n",
    "# 通过卷积层\n",
    "output_data = conv_layer(input_data)\n",
    "\n",
    "print(output_data.shape)  # 输出特征图的形状"
   ]
  }
 ],
 "metadata": {
  "kernelspec": {
   "display_name": "Python 3 (ipykernel)",
   "language": "python",
   "name": "python3"
  },
  "language_info": {
   "codemirror_mode": {
    "name": "ipython",
    "version": 3
   },
   "file_extension": ".py",
   "mimetype": "text/x-python",
   "name": "python",
   "nbconvert_exporter": "python",
   "pygments_lexer": "ipython3",
   "version": "3.12.7"
  }
 },
 "nbformat": 4,
 "nbformat_minor": 5
}
