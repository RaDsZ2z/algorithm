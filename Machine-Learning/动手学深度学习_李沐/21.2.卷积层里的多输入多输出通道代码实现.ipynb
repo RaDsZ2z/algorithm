{
 "cells": [
  {
   "cell_type": "code",
   "execution_count": 1,
   "id": "0dc497c0-14cd-43e8-8467-f9e01d44bf57",
   "metadata": {},
   "outputs": [],
   "source": [
    "# 多输入通道互相关运算\n",
    "import torch\n",
    "from d2l import torch as d2l\n",
    "from torch import nn\n",
    "\n",
    "# 多通道输入运算\n",
    "def corr2d_multi_in(X,K):\n",
    "    return sum(d2l.corr2d(x,k) for x,k in zip(X,K)) # X,K为3通道矩阵，for使得对最外面通道进行遍历        "
   ]
  },
  {
   "cell_type": "code",
   "execution_count": 2,
   "id": "38f00ad9-1ae8-4351-8e0c-e7bf3ead131e",
   "metadata": {},
   "outputs": [
    {
     "data": {
      "text/plain": [
       "tensor([[ 56.,  72.],\n",
       "        [104., 120.]])"
      ]
     },
     "execution_count": 2,
     "metadata": {},
     "output_type": "execute_result"
    }
   ],
   "source": [
    "X = torch.tensor([[[0.0,1.0,2.0],[3.0,4.0,5.0],[6.0,7.0,8.0]],\n",
    "                  [[1.0,2.0,3.0],[4.0,5.0,6.0],[7.0,8.0,9.0]]])\n",
    "K = torch.tensor([[[0.0,1.0],[2.0,3.0]],[[1.0,2.0],[3.0,4.0]]])\n",
    "corr2d_multi_in(X, K)"
   ]
  },
  {
   "cell_type": "code",
   "execution_count": 3,
   "id": "744a2d33-7c08-45fb-831a-52a794c9b43a",
   "metadata": {},
   "outputs": [
    {
     "data": {
      "text/plain": [
       "torch.Size([3, 2, 2, 2])"
      ]
     },
     "execution_count": 3,
     "metadata": {},
     "output_type": "execute_result"
    }
   ],
   "source": [
    "# 多输出通道运算\n",
    "def corr2d_multi_in_out(X,K):  # X为3通道矩阵，K为4通道矩阵，最外面维为输出通道      \n",
    "    return torch.stack([corr2d_multi_in(X,k) for k in K],0) # 大k中每个小k是一个3D的Tensor。0表示stack堆叠函数里面在0这个维度堆叠。           \n",
    "\n",
    "K = torch.stack((K, K+1, K+2),0) # K与K+1之间的区别为K的每个元素加1\n",
    "K.shape"
   ]
  },
  {
   "cell_type": "code",
   "execution_count": 4,
   "id": "3d29feb1-7e81-458e-b9b6-5cc944d79a10",
   "metadata": {},
   "outputs": [],
   "source": [
    "# 1×1卷积的多输入、多输出通道运算\n",
    "def corr2d_multi_in_out_1x1(X,K):\n",
    "    c_i, h, w = X.shape # 输入的通道数、宽、高\n",
    "    c_o = K.shape[0]    # 输出的通道数\n",
    "    X = X.reshape((c_i, h * w)) # 拉平操作，每一行表示一个通道的特征\n",
    "    K = K.reshape((c_o,c_i)) \n",
    "    Y = torch.matmul(K,X) \n",
    "    return Y.reshape((c_o, h, w))\n",
    "\n",
    "X = torch.normal(0,1,(3,3,3))   # norm函数生成0到1之间的(3,3,3)矩阵 \n",
    "K = torch.normal(0,1,(2,3,1,1)) # 输出通道是2，输入通道是3，核是1X1\n",
    "\n",
    "Y1 = corr2d_multi_in_out_1x1(X,K)\n",
    "Y2 = corr2d_multi_in_out(X,K)\n",
    "assert float(torch.abs(Y1-Y2).sum()) < 1e-6"
   ]
  },
  {
   "cell_type": "code",
   "execution_count": 5,
   "id": "866df7df-03ac-4375-9c91-9175babfbd1b",
   "metadata": {},
   "outputs": [
    {
     "ename": "NameError",
     "evalue": "name 'comp_conv2d' is not defined",
     "output_type": "error",
     "traceback": [
      "\u001b[0;31m---------------------------------------------------------------------------\u001b[0m",
      "\u001b[0;31mNameError\u001b[0m                                 Traceback (most recent call last)",
      "Cell \u001b[0;32mIn[5], line 2\u001b[0m\n\u001b[1;32m      1\u001b[0m conv2d \u001b[38;5;241m=\u001b[39m nn\u001b[38;5;241m.\u001b[39mConv2d(\u001b[38;5;241m1\u001b[39m,\u001b[38;5;241m1\u001b[39m,kernel_size\u001b[38;5;241m=\u001b[39m\u001b[38;5;241m3\u001b[39m,padding\u001b[38;5;241m=\u001b[39m\u001b[38;5;241m1\u001b[39m,stride\u001b[38;5;241m=\u001b[39m\u001b[38;5;241m2\u001b[39m) \u001b[38;5;66;03m# Pytorch里面卷积函数的第一个参数为输出通道，第二个参数为输入通道   \u001b[39;00m\n\u001b[0;32m----> 2\u001b[0m comp_conv2d(conv2d,X)\u001b[38;5;241m.\u001b[39mshape\n",
      "\u001b[0;31mNameError\u001b[0m: name 'comp_conv2d' is not defined"
     ]
    }
   ],
   "source": [
    "conv2d = nn.Conv2d(1,1,kernel_size=3,padding=1,stride=2) # Pytorch里面卷积函数的第一个参数为输出通道，第二个参数为输入通道   \n",
    "comp_conv2d(conv2d,X).shape\n"
   ]
  },
  {
   "cell_type": "code",
   "execution_count": null,
   "id": "f4dc935a-3a0b-4bce-be41-92877437a61c",
   "metadata": {},
   "outputs": [],
   "source": [
    "conv2d = nn.Conv2d(1,1,kernel_size=(3,5),padding=(0,1),stride=(3,4)) # 一个稍微复杂的例子\n",
    "comp_conv2d(conv2d,X).shape"
   ]
  }
 ],
 "metadata": {
  "kernelspec": {
   "display_name": "Python 3 (ipykernel)",
   "language": "python",
   "name": "python3"
  },
  "language_info": {
   "codemirror_mode": {
    "name": "ipython",
    "version": 3
   },
   "file_extension": ".py",
   "mimetype": "text/x-python",
   "name": "python",
   "nbconvert_exporter": "python",
   "pygments_lexer": "ipython3",
   "version": "3.12.4"
  }
 },
 "nbformat": 4,
 "nbformat_minor": 5
}
