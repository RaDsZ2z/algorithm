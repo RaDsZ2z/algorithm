{
 "cells": [
  {
   "cell_type": "markdown",
   "id": "50214894-3543-4a69-a809-e1afdc3c717f",
   "metadata": {},
   "source": [
    "# 1.输入与输出（使用自定义）"
   ]
  },
  {
   "cell_type": "code",
   "execution_count": 2,
   "id": "0dc497c0-14cd-43e8-8467-f9e01d44bf57",
   "metadata": {},
   "outputs": [
    {
     "name": "stdout",
     "output_type": "stream",
     "text": [
      "X:\n",
      " tensor([[[0., 1., 2.],\n",
      "         [3., 4., 5.],\n",
      "         [6., 7., 8.]],\n",
      "\n",
      "        [[1., 2., 3.],\n",
      "         [4., 5., 6.],\n",
      "         [7., 8., 9.]]])\n",
      "X:\n",
      " tensor([[[0., 1.],\n",
      "         [2., 3.]],\n",
      "\n",
      "        [[1., 2.],\n",
      "         [3., 4.]]])\n",
      "tensor([[ 56.,  72.],\n",
      "        [104., 120.]])\n",
      "tensor([[ 76., 100.],\n",
      "        [148., 172.]])\n",
      "tensor([[ 96., 128.],\n",
      "        [192., 224.]])\n",
      "-----------\n",
      "torch.Size([3, 2, 2, 2])\n",
      "tensor([[[ 56.,  72.],\n",
      "         [104., 120.]],\n",
      "\n",
      "        [[ 76., 100.],\n",
      "         [148., 172.]],\n",
      "\n",
      "        [[ 96., 128.],\n",
      "         [192., 224.]]])\n"
     ]
    }
   ],
   "source": [
    "# 多输入通道互相关运算\n",
    "import torch\n",
    "from d2l import torch as d2l\n",
    "from torch import nn\n",
    "\n",
    "# 多通道输入运算\n",
    "def corr2d_multi_in(X,K):\n",
    "    return sum(d2l.corr2d(x,k) for x,k in zip(X,K)) # X,K为3通道矩阵，for使得对最外面通道进行遍历        \n",
    "\n",
    "X = torch.tensor([[[0.0,1.0,2.0],[3.0,4.0,5.0],[6.0,7.0,8.0]]\n",
    "                  ,[[1.0,2.0,3.0],[4.0,5.0,6.0],[7.0,8.0,9.0]]\n",
    "                 ])\n",
    "K = torch.tensor([[[0.0,1.0],[2.0,3.0]]\n",
    "                  ,[[1.0,2.0],[3.0,4.0]]\n",
    "                 ])\n",
    "\n",
    "# print('X.shape:x\\n',X.shape)\n",
    "print('X:\\n',X)\n",
    "# print('K.shape:x\\n',K.shape)\n",
    "print('X:\\n',K)\n",
    "print(corr2d_multi_in(X,K))\n",
    "print(corr2d_multi_in(X,K+1))\n",
    "print(corr2d_multi_in(X,K+2))\n",
    "print('-----------')\n",
    "# 多输出通道运算\n",
    "def corr2d_multi_in_out(X,K):  # X为3通道矩阵，K为4通道矩阵，最外维为输出通道      \n",
    "    return torch.stack([corr2d_multi_in(X,k) for k in K],0) # 大k中每个小k是一个3D的Tensor。0表示stack堆叠函数里面在0这个维度堆叠。           \n",
    "    \n",
    "# print('X.shape:',X.shape)\n",
    "# print('K.shape:',K.shape)\n",
    "# print(K)\n",
    "# print(K+1)\n",
    "# print(K+2)\n",
    "K = torch.stack((K, K+1, K+2),0) # K与K+1之间的区别为K的每个元素加1\n",
    "print(K.shape)\n",
    "print(corr2d_multi_in_out(X,K))"
   ]
  },
  {
   "cell_type": "markdown",
   "id": "25dd6056-7d4d-4502-a27e-c5b98aff4b44",
   "metadata": {},
   "source": [
    "# 2.1x1卷积（使用矩阵乘法实现 等价于全连接层）"
   ]
  },
  {
   "cell_type": "code",
   "execution_count": 4,
   "id": "eb7b5399-ccd1-43bc-af86-76c198e9305b",
   "metadata": {},
   "outputs": [
    {
     "name": "stdout",
     "output_type": "stream",
     "text": [
      "X:\n",
      " torch.Size([3, 3, 3]) \n",
      " tensor([[[-0.3385,  0.1138, -0.7406],\n",
      "         [-0.7188,  1.9767,  0.4188],\n",
      "         [-2.7680,  0.3167,  0.3663]],\n",
      "\n",
      "        [[-1.1692, -0.9002,  0.2707],\n",
      "         [-0.7538,  2.8419,  0.8217],\n",
      "         [-0.4371,  0.3489, -0.6437]],\n",
      "\n",
      "        [[ 0.0192, -1.6957, -0.0590],\n",
      "         [-0.5724, -0.2601,  0.5234],\n",
      "         [-0.0325, -0.6103,  0.3157]]])\n",
      "K:\n",
      " torch.Size([2, 3, 1, 1]) \n",
      " tensor([[[[ 0.1360]],\n",
      "\n",
      "         [[ 0.1583]],\n",
      "\n",
      "         [[-0.1457]]],\n",
      "\n",
      "\n",
      "        [[[ 0.7564]],\n",
      "\n",
      "         [[ 0.2525]],\n",
      "\n",
      "         [[ 0.6310]]]])\n",
      "Y1:\n",
      " torch.Size([2, 3, 3]) \n",
      " tensor([[[-0.2339,  0.1201, -0.0493],\n",
      "         [-0.1336,  0.7565,  0.1107],\n",
      "         [-0.4409,  0.1872, -0.0980]],\n",
      "\n",
      "        [[-0.5392, -1.2113, -0.5291],\n",
      "         [-1.0953,  2.0488,  0.8545],\n",
      "         [-2.2246, -0.0574,  0.3138]]])\n",
      "Y2:\n",
      " torch.Size([2, 3, 3]) \n",
      " tensor([[[-0.2339,  0.1201, -0.0493],\n",
      "         [-0.1336,  0.7565,  0.1107],\n",
      "         [-0.4409,  0.1872, -0.0980]],\n",
      "\n",
      "        [[-0.5392, -1.2113, -0.5291],\n",
      "         [-1.0953,  2.0488,  0.8545],\n",
      "         [-2.2246, -0.0574,  0.3138]]])\n"
     ]
    }
   ],
   "source": [
    "# 1×1卷积的多输入、多输出通道运算\n",
    "def corr2d_multi_in_out_1x1(X,K):\n",
    "    c_i, h, w = X.shape # 输入的通道数、宽、高\n",
    "    c_o = K.shape[0]    # 输出的通道数\n",
    "    X = X.reshape((c_i, h * w)) # 拉平操作，每一行表示一个通道的特征\n",
    "    K = K.reshape((c_o,c_i)) \n",
    "    Y = torch.matmul(K,X) \n",
    "    return Y.reshape((c_o, h, w))\n",
    "\n",
    "X = torch.normal(0,1,(3,3,3))   # norm函数生成0到1之间的(3,3,3)矩阵 \n",
    "K = torch.normal(0,1,(2,3,1,1)) # 输出通道是2，输入通道是3，核是1X1\n",
    "\n",
    "Y1 = corr2d_multi_in_out_1x1(X,K)\n",
    "Y2 = corr2d_multi_in_out(X,K)\n",
    "print('X:\\n',X.shape,'\\n',X)\n",
    "print('K:\\n',K.shape,'\\n',K)\n",
    "print('Y1:\\n',Y1.shape,'\\n',Y1)\n",
    "print('Y2:\\n',Y2.shape,'\\n',Y2)\n",
    "assert float(torch.abs(Y1-Y2).sum()) < 1e-6"
   ]
  }
 ],
 "metadata": {
  "kernelspec": {
   "display_name": "Python 3 (ipykernel)",
   "language": "python",
   "name": "python3"
  },
  "language_info": {
   "codemirror_mode": {
    "name": "ipython",
    "version": 3
   },
   "file_extension": ".py",
   "mimetype": "text/x-python",
   "name": "python",
   "nbconvert_exporter": "python",
   "pygments_lexer": "ipython3",
   "version": "3.12.4"
  }
 },
 "nbformat": 4,
 "nbformat_minor": 5
}
