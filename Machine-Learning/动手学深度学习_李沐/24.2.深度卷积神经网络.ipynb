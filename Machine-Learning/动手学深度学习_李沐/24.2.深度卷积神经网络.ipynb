{
 "cells": [
  {
   "cell_type": "code",
   "execution_count": 1,
   "id": "06bedd4e-8afa-419a-b179-06332b7a6665",
   "metadata": {},
   "outputs": [],
   "source": [
    "import os\n",
    "os.environ[\"KMP_DUPLICATE_LIB_OK\"]=\"TRUE\" #解决运行d2l时内核崩溃\n",
    "import torch\n",
    "from torch import nn\n",
    "from d2l import torch as d2l\n",
    "\n",
    "        \n",
    "net = nn.Sequential(\n",
    "    nn.Conv2d(1,96,kernel_size=11,stride=4,padding=1),nn.ReLU(),\n",
    "    nn.MaxPool2d(kernel_size=3,stride=2),\n",
    "    nn.Conv2d(96,256,kernel_size=5,padding=2),nn.ReLU(),\n",
    "    nn.MaxPool2d(kernel_size=3,stride=2),\n",
    "\n",
    "    nn.Conv2d(256,384,kernel_size=3,padding=1),nn.ReLU(),\n",
    "    nn.Conv2d(384,384,kernel_size=3,padding=1),nn.ReLU(),\n",
    "    nn.Conv2d(384,256,kernel_size=3,padding=1),nn.ReLU(),\n",
    "    nn.MaxPool2d(kernel_size=3,stride=2),\n",
    "    \n",
    "    nn.Flatten(),\n",
    "    nn.Linear(6400, 4096), nn.ReLU(),nn.Dropout(p=0.5),\n",
    "    nn.Linear(4096, 4096), nn.ReLU(),nn.Dropout(p=0.5),\n",
    "    nn.Linear(4096, 10))"
   ]
  },
  {
   "cell_type": "code",
   "execution_count": 2,
   "id": "85c1a931-35f8-45ae-b788-7bedda7d5997",
   "metadata": {},
   "outputs": [
    {
     "name": "stdout",
     "output_type": "stream",
     "text": [
      "Conv2d output shape：\t torch.Size([3, 96, 54, 54])\n",
      "ReLU output shape：\t torch.Size([3, 96, 54, 54])\n",
      "MaxPool2d output shape：\t torch.Size([3, 96, 26, 26])\n",
      "Conv2d output shape：\t torch.Size([3, 256, 26, 26])\n",
      "ReLU output shape：\t torch.Size([3, 256, 26, 26])\n",
      "MaxPool2d output shape：\t torch.Size([3, 256, 12, 12])\n",
      "Conv2d output shape：\t torch.Size([3, 384, 12, 12])\n",
      "ReLU output shape：\t torch.Size([3, 384, 12, 12])\n",
      "Conv2d output shape：\t torch.Size([3, 384, 12, 12])\n",
      "ReLU output shape：\t torch.Size([3, 384, 12, 12])\n",
      "Conv2d output shape：\t torch.Size([3, 256, 12, 12])\n",
      "ReLU output shape：\t torch.Size([3, 256, 12, 12])\n",
      "MaxPool2d output shape：\t torch.Size([3, 256, 5, 5])\n",
      "Flatten output shape：\t torch.Size([3, 6400])\n",
      "Linear output shape：\t torch.Size([3, 4096])\n",
      "ReLU output shape：\t torch.Size([3, 4096])\n",
      "Dropout output shape：\t torch.Size([3, 4096])\n",
      "Linear output shape：\t torch.Size([3, 4096])\n",
      "ReLU output shape：\t torch.Size([3, 4096])\n",
      "Dropout output shape：\t torch.Size([3, 4096])\n",
      "Linear output shape：\t torch.Size([3, 10])\n"
     ]
    }
   ],
   "source": [
    "'''size=(批量大小,通道数,高,宽)'''\n",
    "X = torch.rand(size=(3,1,224,224),dtype=torch.float32)\n",
    "for layer in net:\n",
    "    X = layer(X)\n",
    "    print(layer.__class__.__name__,'output shape：\\t',X.shape)"
   ]
  },
  {
   "cell_type": "code",
   "execution_count": 3,
   "id": "e87a6f44-67e3-4a2b-8c02-5d0f300efbd7",
   "metadata": {},
   "outputs": [],
   "source": [
    "'''AlexNet需要图片大小是224*224  使用了resize参数'''\n",
    "batch_size = 128\n",
    "train_iter, test_iter = d2l.load_data_fashion_mnist(batch_size, resize = 224)"
   ]
  },
  {
   "cell_type": "code",
   "execution_count": 4,
   "id": "72de361f-68df-4054-ad27-da866a006e23",
   "metadata": {},
   "outputs": [],
   "source": [
    "'''d2l.train_ch6的具体实现见 `23.2.经典卷积神经网络` (当然翻d2l源码也可以)'''\n",
    "lr, num_epochs = 0.01, 10\n",
    "# d2l.train_ch6(net, train_iter, test_iter, num_epochs, lr, d2l.try_gpu())"
   ]
  },
  {
   "cell_type": "markdown",
   "id": "94e12425-7097-491f-976c-9e4b1b4461fe",
   "metadata": {},
   "source": [
    "公司的电脑是有gpu的，目前我不能让这个神经网络在gpu上跑，可能是torch版本的问题（只能在cpu上跑，所以非常非常慢）  \n",
    "马上准备自己装台式电脑了，把自己的电脑捣鼓好再用gpu跑吧"
   ]
  }
 ],
 "metadata": {
  "kernelspec": {
   "display_name": "Python 3 (ipykernel)",
   "language": "python",
   "name": "python3"
  },
  "language_info": {
   "codemirror_mode": {
    "name": "ipython",
    "version": 3
   },
   "file_extension": ".py",
   "mimetype": "text/x-python",
   "name": "python",
   "nbconvert_exporter": "python",
   "pygments_lexer": "ipython3",
   "version": "3.12.7"
  }
 },
 "nbformat": 4,
 "nbformat_minor": 5
}
