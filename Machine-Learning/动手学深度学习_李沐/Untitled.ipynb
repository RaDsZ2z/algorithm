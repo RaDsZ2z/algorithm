{
 "cells": [
  {
   "cell_type": "code",
   "execution_count": 135,
   "id": "09624964-315f-41b5-9a8e-5b17136edab5",
   "metadata": {},
   "outputs": [
    {
     "name": "stdout",
     "output_type": "stream",
     "text": [
      "tensor([1., 2., 3., 4.], requires_grad=True)\n",
      "tensor([ 5.,  7.,  9., 11.])\n"
     ]
    }
   ],
   "source": [
    "import torch\n",
    "x = torch.tensor([1,2,3,4],dtype = torch.float32,requires_grad = True)\n",
    "y = x**2 + 3*x + 4\n",
    "y.sum().backward()\n",
    "print(x)\n",
    "print(x.grad)"
   ]
  }
 ],
 "metadata": {
  "kernelspec": {
   "display_name": "Python 3 (ipykernel)",
   "language": "python",
   "name": "python3"
  },
  "language_info": {
   "codemirror_mode": {
    "name": "ipython",
    "version": 3
   },
   "file_extension": ".py",
   "mimetype": "text/x-python",
   "name": "python",
   "nbconvert_exporter": "python",
   "pygments_lexer": "ipython3",
   "version": "3.12.4"
  }
 },
 "nbformat": 4,
 "nbformat_minor": 5
}
