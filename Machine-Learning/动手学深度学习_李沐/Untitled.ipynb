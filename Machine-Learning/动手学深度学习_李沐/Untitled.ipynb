{
 "cells": [
  {
   "cell_type": "code",
   "execution_count": 71,
   "id": "09624964-315f-41b5-9a8e-5b17136edab5",
   "metadata": {},
   "outputs": [
    {
     "name": "stdout",
     "output_type": "stream",
     "text": [
      "tensor([[1.2166, 1.2164]], requires_grad=True)\n",
      "tensor([0.7953], grad_fn=<AddBackward0>)\n",
      "tensor([[ 4.0000, -6.8000]])\n",
      "None\n"
     ]
    }
   ],
   "source": [
    "import torch\n",
    "X = torch.normal(0,1,(1,2),requires_grad = True)\n",
    "w = torch.tensor([2,-3.4])\n",
    "w *= 2\n",
    "b = 4.2\n",
    "y = torch.matmul(X,w) + b\n",
    "y.sum().backward()\n",
    "print(X)\n",
    "print(y)\n",
    "print(X.grad)"
   ]
  }
 ],
 "metadata": {
  "kernelspec": {
   "display_name": "Python 3 (ipykernel)",
   "language": "python",
   "name": "python3"
  },
  "language_info": {
   "codemirror_mode": {
    "name": "ipython",
    "version": 3
   },
   "file_extension": ".py",
   "mimetype": "text/x-python",
   "name": "python",
   "nbconvert_exporter": "python",
   "pygments_lexer": "ipython3",
   "version": "3.12.4"
  }
 },
 "nbformat": 4,
 "nbformat_minor": 5
}
