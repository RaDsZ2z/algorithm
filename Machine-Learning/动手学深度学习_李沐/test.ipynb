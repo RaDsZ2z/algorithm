{
 "cells": [
  {
   "cell_type": "code",
   "execution_count": 1,
   "id": "032da063-0572-43ad-9d94-f9578a632ec3",
   "metadata": {},
   "outputs": [
    {
     "name": "stdout",
     "output_type": "stream",
     "text": [
      "PyTorch 版本： 2.8.0+cu126\n",
      "CUDA 是否可用： True\n",
      "CUDA 版本： 12.6\n",
      "可用的 GPU 数量： 1\n",
      "当前 GPU 名称： NVIDIA GeForce RTX 3050\n"
     ]
    }
   ],
   "source": [
    "import torch\n",
    "\n",
    "print(f\"PyTorch 版本： {torch.__version__}\")\n",
    "print(f\"CUDA 是否可用： {torch.cuda.is_available()}\")\n",
    "print(f\"CUDA 版本： {torch.version.cuda}\")\n",
    "print(f\"可用的 GPU 数量： {torch.cuda.device_count()}\")\n",
    "print(f\"当前 GPU 名称： {torch.cuda.get_device_name(0) if torch.cuda.device_count() > 0 else 'None'}\")"
   ]
  }
 ],
 "metadata": {
  "kernelspec": {
   "display_name": "Python 3 (ipykernel)",
   "language": "python",
   "name": "python3"
  },
  "language_info": {
   "codemirror_mode": {
    "name": "ipython",
    "version": 3
   },
   "file_extension": ".py",
   "mimetype": "text/x-python",
   "name": "python",
   "nbconvert_exporter": "python",
   "pygments_lexer": "ipython3",
   "version": "3.12.7"
  }
 },
 "nbformat": 4,
 "nbformat_minor": 5
}
