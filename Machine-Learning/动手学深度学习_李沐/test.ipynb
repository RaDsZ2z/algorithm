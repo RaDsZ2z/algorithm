{
 "cells": [
  {
   "cell_type": "code",
   "execution_count": 8,
   "id": "2798c9c2-76b9-4212-9557-1558a969ed45",
   "metadata": {},
   "outputs": [
    {
     "name": "stdout",
     "output_type": "stream",
     "text": [
      "torch.Size([4, 3, 3, 3])\n",
      "输出张量形状 (4 通道): torch.Size([4, 4, 30, 30])\n",
      "torch.Size([8, 3, 3, 3])\n",
      "输出张量形状 (8 通道): torch.Size([4, 8, 30, 30])\n"
     ]
    }
   ],
   "source": [
    "import torch\n",
    "import torch.nn as nn\n",
    "\n",
    "# 定义输入张量，形状为 (batch_size, channels, height, width)\n",
    "input_tensor = torch.randn(4, 3, 32, 32)  # 4个样本，3个通道，32x32的图像\n",
    "\n",
    "# 创建一个卷积层\n",
    "conv_layer_1 = nn.Conv2d(in_channels=3, out_channels=4, kernel_size=3)  # 输出通道数为4\n",
    "conv_layer_2 = nn.Conv2d(in_channels=3, out_channels=8, kernel_size=3)  # 输出通道数为8\n",
    "\n",
    "# 前向传播\n",
    "output_tensor_1 = conv_layer_1(input_tensor)\n",
    "output_tensor_2 = conv_layer_2(input_tensor)\n",
    "print(conv_layer_1.weight.shape)\n",
    "print(\"输出张量形状 (4 通道):\", output_tensor_1.shape)\n",
    "print(conv_layer_2.weight.shape)\n",
    "print(\"输出张量形状 (8 通道):\", output_tensor_2.shape)"
   ]
  }
 ],
 "metadata": {
  "kernelspec": {
   "display_name": "Python 3 (ipykernel)",
   "language": "python",
   "name": "python3"
  },
  "language_info": {
   "codemirror_mode": {
    "name": "ipython",
    "version": 3
   },
   "file_extension": ".py",
   "mimetype": "text/x-python",
   "name": "python",
   "nbconvert_exporter": "python",
   "pygments_lexer": "ipython3",
   "version": "3.12.4"
  }
 },
 "nbformat": 4,
 "nbformat_minor": 5
}
