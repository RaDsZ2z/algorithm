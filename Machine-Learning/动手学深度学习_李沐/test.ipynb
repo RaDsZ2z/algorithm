{
 "cells": [
  {
   "cell_type": "code",
   "execution_count": 1,
   "id": "2798c9c2-76b9-4212-9557-1558a969ed45",
   "metadata": {},
   "outputs": [
    {
     "name": "stdout",
     "output_type": "stream",
     "text": [
      "torch.Size([2, 3])\n",
      "torch.Size([3])\n",
      "tensor([7., 8., 9.])\n"
     ]
    }
   ],
   "source": [
    "import torch\n",
    "\n",
    "x = torch.Tensor([[1,2,3],[6,6,6]])\n",
    "print(x.shape)\n",
    "x=x.sum(dim=0)\n",
    "print(x.shape)\n",
    "print(x)"
   ]
  },
  {
   "cell_type": "code",
   "execution_count": 9,
   "id": "6b5aeb3d-f25b-4e7c-92f5-095eca851cff",
   "metadata": {},
   "outputs": [
    {
     "name": "stdout",
     "output_type": "stream",
     "text": [
      "torch.Size([2, 2, 2, 3])\n",
      "keep_dim_shape: torch.Size([1, 2, 1, 1])\n",
      "torch.Size([2])\n",
      "tensor([30., 54.])\n"
     ]
    }
   ],
   "source": [
    "x = torch.Tensor([[[[0,0,0],[1,1,1]],[[2,2,2],[3,3,3]]],[[[4,4,4],[5,5,5]],[[6,6,6],[7,7,7]]]])\n",
    "print(x.shape)\n",
    "keepdim_x = x.sum(dim=(0,2,3),keepdim=True)\n",
    "print('keep_dim_shape:',keepdim_x.shape)\n",
    "x=x.sum(dim=(0,2,3))\n",
    "print(x.shape)\n",
    "print(x)"
   ]
  }
 ],
 "metadata": {
  "kernelspec": {
   "display_name": "Python 3 (ipykernel)",
   "language": "python",
   "name": "python3"
  },
  "language_info": {
   "codemirror_mode": {
    "name": "ipython",
    "version": 3
   },
   "file_extension": ".py",
   "mimetype": "text/x-python",
   "name": "python",
   "nbconvert_exporter": "python",
   "pygments_lexer": "ipython3",
   "version": "3.12.7"
  }
 },
 "nbformat": 4,
 "nbformat_minor": 5
}
