{
 "cells": [
  {
   "cell_type": "code",
   "execution_count": 1,
   "id": "2798c9c2-76b9-4212-9557-1558a969ed45",
   "metadata": {},
   "outputs": [],
   "source": [
    "import torch"
   ]
  },
  {
   "cell_type": "code",
   "execution_count": 2,
   "id": "56778329-38ca-44e7-9b5d-5002616b09c0",
   "metadata": {},
   "outputs": [
    {
     "name": "stdout",
     "output_type": "stream",
     "text": [
      "torch.Size([2, 3])\n",
      "torch.Size([3])\n",
      "tensor([7., 8., 9.])\n"
     ]
    }
   ],
   "source": [
    "x = torch.Tensor([[1,2,3],[6,6,6]])\n",
    "print(x.shape)\n",
    "x=x.sum(dim=0)\n",
    "print(x.shape)\n",
    "print(x)"
   ]
  },
  {
   "cell_type": "code",
   "execution_count": 3,
   "id": "6b5aeb3d-f25b-4e7c-92f5-095eca851cff",
   "metadata": {},
   "outputs": [
    {
     "name": "stdout",
     "output_type": "stream",
     "text": [
      "torch.Size([2, 2, 2, 3])\n",
      "keep_dim_shape: torch.Size([1, 2, 1, 1])\n",
      "torch.Size([2])\n",
      "tensor([30., 54.])\n"
     ]
    }
   ],
   "source": [
    "x = torch.Tensor([[[[0,0,0],[1,1,1]],[[2,2,2],[3,3,3]]],[[[4,4,4],[5,5,5]],[[6,6,6],[7,7,7]]]])\n",
    "print(x.shape)\n",
    "keepdim_x = x.sum(dim=(0,2,3),keepdim=True)\n",
    "print('keep_dim_shape:',keepdim_x.shape)\n",
    "x=x.sum(dim=(0,2,3))\n",
    "print(x.shape)\n",
    "print(x)"
   ]
  },
  {
   "cell_type": "code",
   "execution_count": 10,
   "id": "2a2f8c31-aba6-4ca7-9342-e7c0b0626c47",
   "metadata": {},
   "outputs": [
    {
     "name": "stdout",
     "output_type": "stream",
     "text": [
      "------x\n",
      "tensor([[0., 0., 0.],\n",
      "        [1., 2., 3.]])\n",
      "------mean\n",
      "torch.Size([3])\n",
      "tensor([0.5000, 1.0000, 1.5000])\n",
      "------var\n",
      "torch.Size([2, 3])\n",
      "tensor([[-0.5000, -1.0000, -1.5000],\n",
      "        [ 0.5000,  1.0000,  1.5000]])\n",
      "----------\n",
      "torch.Size([2, 2, 3])\n",
      "torch.Size([2, 3])\n",
      "tensor([[[0., 0., 0.],\n",
      "         [2., 4., 6.]],\n",
      "\n",
      "        [[0., 0., 0.],\n",
      "         [2., 4., 6.]]])\n"
     ]
    }
   ],
   "source": [
    "x = torch.Tensor([[0,0,0],[1,2,3]])\n",
    "print('------x')\n",
    "print(x)\n",
    "print('------mean')\n",
    "mean = x.mean(dim=0)\n",
    "print(mean.shape)\n",
    "print(mean)\n",
    "print('------var')\n",
    "var = (x - mean)\n",
    "print(var.shape)\n",
    "print(var)\n",
    "\n",
    "print('----------')\n",
    "v1 = torch.Tensor([[[0,0,0],[1,2,3]],[[0,0,0],[1,2,3]]])\n",
    "v2 = torch.Tensor([[0,0,0],[1,2,3]])\n",
    "print(v1.shape)\n",
    "print(v2.shape)\n",
    "print(v1+v2)"
   ]
  }
 ],
 "metadata": {
  "kernelspec": {
   "display_name": "Python 3 (ipykernel)",
   "language": "python",
   "name": "python3"
  },
  "language_info": {
   "codemirror_mode": {
    "name": "ipython",
    "version": 3
   },
   "file_extension": ".py",
   "mimetype": "text/x-python",
   "name": "python",
   "nbconvert_exporter": "python",
   "pygments_lexer": "ipython3",
   "version": "3.12.7"
  }
 },
 "nbformat": 4,
 "nbformat_minor": 5
}
