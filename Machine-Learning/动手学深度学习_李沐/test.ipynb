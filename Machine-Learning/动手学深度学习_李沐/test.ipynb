{
 "cells": [
  {
   "cell_type": "code",
   "execution_count": 87,
   "id": "09624964-315f-41b5-9a8e-5b17136edab5",
   "metadata": {},
   "outputs": [
    {
     "name": "stdout",
     "output_type": "stream",
     "text": [
      "<class 'torch.Tensor'>\n",
      "<class 'torch.Tensor'>\n"
     ]
    }
   ],
   "source": [
    "import torch\n",
    "import random\n",
    "x = torch.tensor([1,1,4,5,1,4,1,1,9,8,0,2,3])\n",
    "print(type(x))\n",
    "print(type(x[2:3]))\n"
   ]
  },
  {
   "cell_type": "code",
   "execution_count": null,
   "id": "cbbadbe8-d46e-477e-9ecb-befe42f0cf86",
   "metadata": {},
   "outputs": [],
   "source": []
  }
 ],
 "metadata": {
  "kernelspec": {
   "display_name": "Python 3 (ipykernel)",
   "language": "python",
   "name": "python3"
  },
  "language_info": {
   "codemirror_mode": {
    "name": "ipython",
    "version": 3
   },
   "file_extension": ".py",
   "mimetype": "text/x-python",
   "name": "python",
   "nbconvert_exporter": "python",
   "pygments_lexer": "ipython3",
   "version": "3.12.4"
  }
 },
 "nbformat": 4,
 "nbformat_minor": 5
}
