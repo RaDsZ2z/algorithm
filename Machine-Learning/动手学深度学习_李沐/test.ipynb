{
 "cells": [
  {
   "cell_type": "code",
   "execution_count": 9,
   "id": "2798c9c2-76b9-4212-9557-1558a969ed45",
   "metadata": {},
   "outputs": [
    {
     "name": "stdout",
     "output_type": "stream",
     "text": [
      "输入张量形状: torch.Size([3, 4])\n",
      "权重矩阵形状: torch.Size([2, 4])\n",
      "偏置项形状: torch.Size([2])\n",
      "输出张量形状: torch.Size([3, 2])\n"
     ]
    }
   ],
   "source": [
    "import torch\n",
    "import torch.nn as nn\n",
    "\n",
    "# 定义输入张量，形状为 (batch_size, in_features)\n",
    "input_tensor = torch.randn(3, 4)  # 3个样本，4个输入特征\n",
    "\n",
    "# 创建一个线性层\n",
    "linear_layer = nn.Linear(in_features=4, out_features=2)\n",
    "\n",
    "# 前向传播\n",
    "output_tensor = linear_layer(input_tensor)\n",
    "\n",
    "print(\"输入张量形状:\", input_tensor.shape)\n",
    "print(\"权重矩阵形状:\", linear_layer.weight.shape)  # 输出权重矩阵的形状\n",
    "print(\"偏置项形状:\", linear_layer.bias.shape)\n",
    "print(\"输出张量形状:\", output_tensor.shape)\n"
   ]
  }
 ],
 "metadata": {
  "kernelspec": {
   "display_name": "Python 3 (ipykernel)",
   "language": "python",
   "name": "python3"
  },
  "language_info": {
   "codemirror_mode": {
    "name": "ipython",
    "version": 3
   },
   "file_extension": ".py",
   "mimetype": "text/x-python",
   "name": "python",
   "nbconvert_exporter": "python",
   "pygments_lexer": "ipython3",
   "version": "3.12.7"
  }
 },
 "nbformat": 4,
 "nbformat_minor": 5
}
