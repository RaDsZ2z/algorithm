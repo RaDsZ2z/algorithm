{
 "cells": [
  {
   "cell_type": "code",
   "execution_count": 1,
   "id": "2798c9c2-76b9-4212-9557-1558a969ed45",
   "metadata": {},
   "outputs": [],
   "source": [
    "##### %matplotlib inline\n",
    "import os\n",
    "os.environ[\"KMP_DUPLICATE_LIB_OK\"]=\"TRUE\"#不加这行 在跑d2l代码时内核可能崩溃\n",
    "import torch\n",
    "import torchvision\n",
    "from torch.utils import data\n",
    "from torchvision import transforms\n",
    "from d2l import torch as d2l\n",
    "from IPython import display\n",
    "\n",
    "trans = transforms.ToTensor()\n",
    "mnist_train = torchvision.datasets.FashionMNIST(root=\"./data\",train=True,transform=trans,download=True)\n",
    "mnist_test = torchvision.datasets.FashionMNIST(root=\"./data\",train=False,transform=trans,download=True)"
   ]
  },
  {
   "cell_type": "code",
   "execution_count": 10,
   "id": "6459e718-0ff2-4c8c-a2e4-809ba336d7b9",
   "metadata": {},
   "outputs": [
    {
     "name": "stdout",
     "output_type": "stream",
     "text": [
      "[3.0, 5.0, 7.0]\n"
     ]
    }
   ],
   "source": [
    "def my_add(data, *args):\n",
    "    data = [a+float(b) for a,b in zip(data,args)] # zip函数把两个列表第一个位置元素打包、第二个位置元素打包....\n",
    "    return data\n",
    "data = [1,2,3]\n",
    "data = my_add(data,2,3,4)\n",
    "print(data)"
   ]
  }
 ],
 "metadata": {
  "kernelspec": {
   "display_name": "Python 3 (ipykernel)",
   "language": "python",
   "name": "python3"
  },
  "language_info": {
   "codemirror_mode": {
    "name": "ipython",
    "version": 3
   },
   "file_extension": ".py",
   "mimetype": "text/x-python",
   "name": "python",
   "nbconvert_exporter": "python",
   "pygments_lexer": "ipython3",
   "version": "3.12.7"
  }
 },
 "nbformat": 4,
 "nbformat_minor": 5
}
