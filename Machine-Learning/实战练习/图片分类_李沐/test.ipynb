{
 "cells": [
  {
   "cell_type": "code",
   "execution_count": 18,
   "id": "9cb97a4e-34a5-458a-94bc-3825f55864fc",
   "metadata": {},
   "outputs": [
    {
     "name": "stdout",
     "output_type": "stream",
     "text": [
      "shape1: (224, 224, 3)\n",
      "mean1: 242.8440622342687\n",
      "shape2: torch.Size([3, 224, 224])\n",
      "mean2: tensor(0.9523)\n"
     ]
    }
   ],
   "source": [
    "import os\n",
    "import pandas as pd\n",
    "from torch.utils.data import Dataset, DataLoader\n",
    "import torchvision.transforms as T\n",
    "import numpy as np\n",
    "from PIL import Image\n",
    "base_path = './classify-leaves'\n",
    "class LeaveDataset(Dataset):\n",
    "    def __init__(self, data_df, transform=None):\n",
    "        self.data = data_df\n",
    "        self.transform = transform\n",
    "\n",
    "    def __len__(self):\n",
    "        return len(self.data)\n",
    "\n",
    "    def __getitem__(self, idx):\n",
    "        img_path = os.path.join(base_path, self.data.iloc[idx,0])\n",
    "        image = Image.open(img_path)\n",
    "        array = np.array(image)\n",
    "        print('shape1:',array.shape)\n",
    "        print('mean1:',array.mean())\n",
    "        if self.transform:\n",
    "            image = self.transform(image)  # 应用转换\n",
    "        print('shape2:',image.shape)\n",
    "        print('mean2:',image.mean())\n",
    "        label_name = self.data.iloc[idx,1]\n",
    "        label = label2idx[label_name]  # 转换为整数索引\n",
    "\n",
    "        return image, label  # 返回 (图片, 标签)\n",
    "\n",
    "train_df= pd.read_csv(os.path.join(base_path,\"train.csv\"))\n",
    "# 获取所有唯一的类别（叶子种类）\n",
    "unique_labels = train_df[\"label\"].unique()\n",
    "\n",
    "# 创建 类别 → 索引 的映射\n",
    "label2idx = {label: idx for idx, label in enumerate(unique_labels)}\n",
    "\n",
    "# 创建反向映射（id → label）\n",
    "idx2label = {v: k for k, v in label2idx.items()}\n",
    "transform = T.Compose([\n",
    "    T.ToTensor(),\n",
    "])\n",
    "train_dataset = LeaveDataset(train_df,transform)\n",
    "train_dataset[0]\n",
    "pass"
   ]
  }
 ],
 "metadata": {
  "kernelspec": {
   "display_name": "Python 3 (ipykernel)",
   "language": "python",
   "name": "python3"
  },
  "language_info": {
   "codemirror_mode": {
    "name": "ipython",
    "version": 3
   },
   "file_extension": ".py",
   "mimetype": "text/x-python",
   "name": "python",
   "nbconvert_exporter": "python",
   "pygments_lexer": "ipython3",
   "version": "3.12.7"
  }
 },
 "nbformat": 4,
 "nbformat_minor": 5
}
