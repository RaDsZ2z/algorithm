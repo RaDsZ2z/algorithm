{
 "cells": [
  {
   "cell_type": "code",
   "execution_count": null,
   "id": "6c4ecb0e-955b-4539-8163-33b00d7442a1",
   "metadata": {},
   "outputs": [],
   "source": [
    "import torch\n",
    "from torchvision import datasets, transforms\n",
    "from torch.utils.data import DataLoader\n",
    "import matplotlib.pyplot as plt\n",
    "# os.environ[\"KMP_DUPLICATE_LIB_OK\"]=\"TRUE\""
   ]
  },
  {
   "cell_type": "code",
   "execution_count": null,
   "id": "81225736-8d74-4d8d-8dea-92518df98901",
   "metadata": {},
   "outputs": [],
   "source": [
    "class Net(torch.nn.Module):\n",
    "    def __init__(self):\n",
    "        '''先调用父类的__init__函数，然后定义了四个全连接层'''\n",
    "        super().__init__()\n",
    "        self.fc1 = torch.nn.Linear(28*28, 64)\n",
    "        self.fc2 = torch.nn.Linear(64, 64)\n",
    "        self.fc3 = torch.nn.Linear(64, 64)\n",
    "        self.fc4 = torch.nn.Linear(64, 10)\n",
    "    def forward(self, x):\n",
    "        x = torch.nn.functional.relu(self.fc1(x))\n",
    "        x = torch.nn.functional.relu(self.fc2(x))\n",
    "        x = torch.nn.functional.relu(self.fc3(x))\n",
    "        x = torch.nn.functional.log_softmax(self.fc4(x), dim=1)\n",
    "        return x"
   ]
  },
  {
   "cell_type": "code",
   "execution_count": null,
   "id": "4108f2bd-3fd2-4142-b283-fd0048c28f2e",
   "metadata": {},
   "outputs": [],
   "source": [
    "def get_data_loader(is_train):\n",
    "    to_tensor = transforms.Compose([transforms.ToTensor()])\n",
    "    data_set = datasets.MNIST(\"\", is_train, transform=to_tensor,download=True)\n",
    "    return DataLoader(data_set, batch_size=15, shuffle=True)"
   ]
  },
  {
   "cell_type": "code",
   "execution_count": null,
   "id": "cf61be98-4d12-4ddf-99c0-b7471553852a",
   "metadata": {},
   "outputs": [],
   "source": [
    "def evaluate(test_data, net):\n",
    "    n_corret = 0\n",
    "    n_total = 0\n",
    "    with torch.no_grad():\n",
    "        for (x, y) in test_data:\n",
    "            outputs = net.forward(x.view(-1,28*28))\n",
    "            for i, output in enumerate(outputs):\n",
    "                if torch.argmax(output) == y[i]:\n",
    "                    n_corret += 1\n",
    "                n_total += 1\n",
    "    return n_corret / n_total"
   ]
  },
  {
   "cell_type": "code",
   "execution_count": null,
   "id": "e9c10326-e8db-4f31-ae93-fb453250b011",
   "metadata": {},
   "outputs": [],
   "source": [
    "def main():\n",
    "    train_data = get_data_loader(is_train = True)\n",
    "    test_data = get_data_loader(is_train = True)\n",
    "    net = Net()\n",
    "    print(\"initial accuracy:\", evaluate(test_data,net))\n",
    "    optimizer = torch.optim.Adam(net.parameters(), lr = 0.001)\n",
    "    for epoch in range(2):\n",
    "        for (x, y) in train_data:\n",
    "            net.zero_grad()\n",
    "            output = net.forward(x.view(-1,28*28))\n",
    "            loss = torch.nn.functional.nll_loss(output, y)\n",
    "            loss.backward()\n",
    "            optimizer.step()\n",
    "        print(\"epoch\", epoch, \"accuracy:\", evaluate(test_data,net))\n",
    "    for(n, (x, _)) in enumerate(test_data):\n",
    "        if (n > 3):\n",
    "            break\n",
    "        predict = torch.argmax(net.forward(x[0].view(-1, 28*28)))\n",
    "        plt.figure(n)\n",
    "        plt.imshow(x[0].view(28,28))\n",
    "        plt.title(\"prediction: \" + str(int(predict)))\n",
    "    plt.show()"
   ]
  },
  {
   "cell_type": "code",
   "execution_count": null,
   "id": "ea73cff9-606f-4db7-a5d4-8f0f539c647f",
   "metadata": {
    "scrolled": true
   },
   "outputs": [],
   "source": [
    "if __name__ == \"__main__\":\n",
    "    main()"
   ]
  }
 ],
 "metadata": {
  "kernelspec": {
   "display_name": "Python 3 (ipykernel)",
   "language": "python",
   "name": "python3"
  },
  "language_info": {
   "codemirror_mode": {
    "name": "ipython",
    "version": 3
   },
   "file_extension": ".py",
   "mimetype": "text/x-python",
   "name": "python",
   "nbconvert_exporter": "python",
   "pygments_lexer": "ipython3",
   "version": "3.12.7"
  }
 },
 "nbformat": 4,
 "nbformat_minor": 5
}
