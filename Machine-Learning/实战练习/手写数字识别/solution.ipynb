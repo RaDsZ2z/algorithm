{
 "cells": [
  {
   "cell_type": "code",
   "execution_count": 1,
   "id": "6c4ecb0e-955b-4539-8163-33b00d7442a1",
   "metadata": {},
   "outputs": [],
   "source": [
    "import os\n",
    "os.environ[\"KMP_DUPLICATE_LIB_OK\"]=\"TRUE\"\n",
    "'''\n",
    "实测，不加上面这一行内核会崩溃 deepseek说一般在Mac上需要这一行，我测试的环境是Windows\n",
    "另外，文件名如果是`code.ipynb`，内核会崩溃，改成`solution.ipynb`后正常了\n",
    "'''\n",
    "\n",
    "import torch\n",
    "from torchvision import datasets, transforms\n",
    "from torch.utils.data import DataLoader\n",
    "import matplotlib.pyplot as plt\n"
   ]
  },
  {
   "cell_type": "code",
   "execution_count": 2,
   "id": "81225736-8d74-4d8d-8dea-92518df98901",
   "metadata": {},
   "outputs": [],
   "source": [
    "class Net(torch.nn.Module):\n",
    "    def __init__(self):\n",
    "        '''先调用父类的__init__函数，然后定义了四个全连接层'''\n",
    "        super().__init__()\n",
    "        self.fc1 = torch.nn.Linear(28*28, 64)\n",
    "        self.fc2 = torch.nn.Linear(64, 64)\n",
    "        self.fc3 = torch.nn.Linear(64, 64)\n",
    "        self.fc4 = torch.nn.Linear(64, 10)\n",
    "    def forward(self, x):\n",
    "        x = torch.nn.functional.relu(self.fc1(x))\n",
    "        x = torch.nn.functional.relu(self.fc2(x))\n",
    "        x = torch.nn.functional.relu(self.fc3(x))\n",
    "        x = self.fc3(x)\n",
    "        x = torch.nn.functional.log_softmax(x, dim=1)\n",
    "        '''soft_max归一化为10个值为0~1之间且和为1的值，这里额外做了一个log'''\n",
    "        return x"
   ]
  },
  {
   "cell_type": "code",
   "execution_count": 3,
   "id": "4108f2bd-3fd2-4142-b283-fd0048c28f2e",
   "metadata": {},
   "outputs": [
    {
     "name": "stdout",
     "output_type": "stream",
     "text": [
      "<class 'PIL.Image.Image'>\n",
      "(28, 28)\n",
      "0 0 0 0 0 0 0 0 0 0 0 0 0 0 0 0 0 0 0 0 0 0 0 0 0 0 0 0 \n",
      "0 0 0 0 0 0 0 0 0 0 0 0 0 0 0 0 0 0 0 0 0 0 0 0 0 0 0 0 \n",
      "0 0 0 0 0 0 0 0 0 0 0 0 0 0 0 0 0 0 0 0 0 0 0 0 0 0 0 0 \n",
      "0 0 0 0 0 0 0 0 0 0 0 0 0 0 0 0 0 0 0 0 0 0 0 0 0 0 0 0 \n",
      "0 0 0 0 0 0 0 0 0 0 0 0 0 0 0 0 0 0 0 0 0 0 0 55 136 0 0 0 \n",
      "0 0 0 0 0 0 0 0 0 0 0 0 0 0 0 0 0 0 0 0 0 0 0 172 253 0 0 0 \n",
      "0 0 0 0 0 0 0 0 0 0 0 0 0 0 0 0 0 0 0 0 0 0 18 226 253 0 0 0 \n",
      "0 0 0 0 0 0 0 49 18 0 0 0 0 0 0 0 0 0 0 0 0 0 171 253 253 0 0 0 \n",
      "0 0 0 0 0 0 30 238 219 80 0 0 0 0 0 0 0 0 0 0 0 23 219 253 212 0 0 0 \n",
      "0 0 0 0 0 0 36 253 253 156 14 0 0 0 0 0 0 0 0 0 0 66 253 253 135 0 0 0 \n",
      "0 0 0 0 0 0 94 253 253 107 1 0 0 0 0 0 0 0 0 0 24 213 253 253 132 0 0 0 \n",
      "0 0 0 0 0 0 154 253 253 253 154 139 11 0 0 0 0 0 0 0 114 253 253 244 16 0 0 0 \n",
      "0 0 0 0 0 3 170 253 253 253 253 253 190 35 0 0 0 0 0 39 221 253 253 133 0 0 0 0 \n",
      "0 0 0 0 0 18 253 253 253 205 90 190 253 241 81 0 0 0 0 148 253 253 195 11 0 0 0 0 \n",
      "0 0 0 0 0 18 253 253 198 11 0 2 70 225 240 45 0 0 46 229 253 253 80 0 0 0 0 0 \n",
      "0 0 0 0 0 18 253 253 182 0 0 0 0 160 253 186 16 0 130 253 253 198 9 0 0 0 0 0 \n",
      "0 0 0 0 0 126 253 253 247 43 0 0 0 108 253 253 93 0 183 253 253 81 0 0 0 0 0 0 \n",
      "0 0 0 0 0 136 253 251 241 154 0 0 0 1 119 253 252 249 253 253 201 2 0 0 0 0 0 0 \n",
      "0 0 0 0 0 175 225 93 0 0 0 0 0 0 25 150 253 253 253 250 78 0 0 0 0 0 0 0 \n",
      "0 0 0 0 0 26 172 82 0 0 0 0 0 0 0 27 187 249 207 182 0 0 0 0 0 0 0 0 \n",
      "0 0 0 0 0 166 253 82 0 0 0 0 0 0 0 0 0 64 2 0 0 0 0 0 0 0 0 0 \n",
      "0 0 0 0 0 255 242 56 0 0 0 0 0 0 0 0 0 0 0 0 0 0 0 0 0 0 0 0 \n",
      "0 0 0 0 0 247 195 39 0 0 0 0 0 0 0 0 0 0 0 0 0 0 0 0 0 0 0 0 \n",
      "0 0 0 0 0 127 64 0 0 0 0 0 0 0 0 0 0 0 0 0 0 0 0 0 0 0 0 0 \n",
      "0 0 0 0 0 0 0 0 0 0 0 0 0 0 0 0 0 0 0 0 0 0 0 0 0 0 0 0 \n",
      "0 0 0 0 0 0 0 0 0 0 0 0 0 0 0 0 0 0 0 0 0 0 0 0 0 0 0 0 \n",
      "0 0 0 0 0 0 0 0 0 0 0 0 0 0 0 0 0 0 0 0 0 0 0 0 0 0 0 0 \n",
      "0 0 0 0 0 0 0 0 0 0 0 0 0 0 0 0 0 0 0 0 0 0 0 0 0 0 0 0 \n",
      "-------------------------------\n",
      "torch.Size([1, 28, 28])\n",
      "tensor(0.)\n",
      "0.00 0.00 0.00 0.00 0.00 0.00 0.00 0.00 0.00 0.00 0.00 0.00 0.00 0.00 0.00 0.00 0.00 0.00 0.00 0.00 0.00 0.00 0.00 0.00 0.00 0.00 0.00 0.00 \n",
      "0.00 0.00 0.00 0.00 0.00 0.00 0.00 0.00 0.00 0.00 0.00 0.00 0.00 0.00 0.00 0.00 0.00 0.00 0.00 0.00 0.00 0.00 0.00 0.00 0.00 0.00 0.00 0.00 \n",
      "0.00 0.00 0.00 0.00 0.00 0.00 0.00 0.00 0.00 0.00 0.00 0.00 0.00 0.00 0.00 0.00 0.00 0.00 0.00 0.00 0.00 0.00 0.00 0.00 0.00 0.00 0.00 0.00 \n",
      "0.00 0.00 0.00 0.00 0.00 0.00 0.00 0.00 0.00 0.00 0.00 0.00 0.00 0.00 0.00 0.00 0.00 0.00 0.00 0.00 0.00 0.00 0.00 0.00 0.00 0.00 0.00 0.00 \n",
      "0.00 0.00 0.00 0.00 0.00 0.00 0.00 0.00 0.00 0.00 0.00 0.00 0.00 0.00 0.00 0.00 0.00 0.00 0.00 0.00 0.00 0.00 0.00 0.00 0.00 0.00 0.00 0.00 \n",
      "0.00 0.00 0.00 0.00 0.00 0.00 0.00 0.00 0.00 0.00 0.00 0.00 0.01 0.07 0.07 0.07 0.49 0.53 0.69 0.10 0.65 1.00 0.97 0.50 0.00 0.00 0.00 0.00 \n",
      "0.00 0.00 0.00 0.00 0.00 0.00 0.00 0.00 0.12 0.14 0.37 0.60 0.67 0.99 0.99 0.99 0.99 0.99 0.88 0.67 0.99 0.95 0.76 0.25 0.00 0.00 0.00 0.00 \n",
      "0.00 0.00 0.00 0.00 0.00 0.00 0.00 0.19 0.93 0.99 0.99 0.99 0.99 0.99 0.99 0.99 0.99 0.98 0.36 0.32 0.32 0.22 0.15 0.00 0.00 0.00 0.00 0.00 \n",
      "0.00 0.00 0.00 0.00 0.00 0.00 0.00 0.07 0.86 0.99 0.99 0.99 0.99 0.99 0.78 0.71 0.97 0.95 0.00 0.00 0.00 0.00 0.00 0.00 0.00 0.00 0.00 0.00 \n",
      "0.00 0.00 0.00 0.00 0.00 0.00 0.00 0.00 0.31 0.61 0.42 0.99 0.99 0.80 0.04 0.00 0.17 0.60 0.00 0.00 0.00 0.00 0.00 0.00 0.00 0.00 0.00 0.00 \n",
      "0.00 0.00 0.00 0.00 0.00 0.00 0.00 0.00 0.00 0.05 0.00 0.60 0.99 0.35 0.00 0.00 0.00 0.00 0.00 0.00 0.00 0.00 0.00 0.00 0.00 0.00 0.00 0.00 \n",
      "0.00 0.00 0.00 0.00 0.00 0.00 0.00 0.00 0.00 0.00 0.00 0.55 0.99 0.75 0.01 0.00 0.00 0.00 0.00 0.00 0.00 0.00 0.00 0.00 0.00 0.00 0.00 0.00 \n",
      "0.00 0.00 0.00 0.00 0.00 0.00 0.00 0.00 0.00 0.00 0.00 0.04 0.75 0.99 0.27 0.00 0.00 0.00 0.00 0.00 0.00 0.00 0.00 0.00 0.00 0.00 0.00 0.00 \n",
      "0.00 0.00 0.00 0.00 0.00 0.00 0.00 0.00 0.00 0.00 0.00 0.00 0.14 0.95 0.88 0.63 0.42 0.00 0.00 0.00 0.00 0.00 0.00 0.00 0.00 0.00 0.00 0.00 \n",
      "0.00 0.00 0.00 0.00 0.00 0.00 0.00 0.00 0.00 0.00 0.00 0.00 0.00 0.32 0.94 0.99 0.99 0.47 0.10 0.00 0.00 0.00 0.00 0.00 0.00 0.00 0.00 0.00 \n",
      "0.00 0.00 0.00 0.00 0.00 0.00 0.00 0.00 0.00 0.00 0.00 0.00 0.00 0.00 0.18 0.73 0.99 0.99 0.59 0.11 0.00 0.00 0.00 0.00 0.00 0.00 0.00 0.00 \n",
      "0.00 0.00 0.00 0.00 0.00 0.00 0.00 0.00 0.00 0.00 0.00 0.00 0.00 0.00 0.00 0.06 0.36 0.99 0.99 0.73 0.00 0.00 0.00 0.00 0.00 0.00 0.00 0.00 \n",
      "0.00 0.00 0.00 0.00 0.00 0.00 0.00 0.00 0.00 0.00 0.00 0.00 0.00 0.00 0.00 0.00 0.00 0.98 0.99 0.98 0.25 0.00 0.00 0.00 0.00 0.00 0.00 0.00 \n",
      "0.00 0.00 0.00 0.00 0.00 0.00 0.00 0.00 0.00 0.00 0.00 0.00 0.00 0.00 0.18 0.51 0.72 0.99 0.99 0.81 0.01 0.00 0.00 0.00 0.00 0.00 0.00 0.00 \n",
      "0.00 0.00 0.00 0.00 0.00 0.00 0.00 0.00 0.00 0.00 0.00 0.00 0.15 0.58 0.90 0.99 0.99 0.99 0.98 0.71 0.00 0.00 0.00 0.00 0.00 0.00 0.00 0.00 \n",
      "0.00 0.00 0.00 0.00 0.00 0.00 0.00 0.00 0.00 0.00 0.09 0.45 0.87 0.99 0.99 0.99 0.99 0.79 0.31 0.00 0.00 0.00 0.00 0.00 0.00 0.00 0.00 0.00 \n",
      "0.00 0.00 0.00 0.00 0.00 0.00 0.00 0.00 0.09 0.26 0.84 0.99 0.99 0.99 0.99 0.78 0.32 0.01 0.00 0.00 0.00 0.00 0.00 0.00 0.00 0.00 0.00 0.00 \n",
      "0.00 0.00 0.00 0.00 0.00 0.00 0.07 0.67 0.86 0.99 0.99 0.99 0.99 0.76 0.31 0.04 0.00 0.00 0.00 0.00 0.00 0.00 0.00 0.00 0.00 0.00 0.00 0.00 \n",
      "0.00 0.00 0.00 0.00 0.22 0.67 0.89 0.99 0.99 0.99 0.99 0.96 0.52 0.04 0.00 0.00 0.00 0.00 0.00 0.00 0.00 0.00 0.00 0.00 0.00 0.00 0.00 0.00 \n",
      "0.00 0.00 0.00 0.00 0.53 0.99 0.99 0.99 0.83 0.53 0.52 0.06 0.00 0.00 0.00 0.00 0.00 0.00 0.00 0.00 0.00 0.00 0.00 0.00 0.00 0.00 0.00 0.00 \n",
      "0.00 0.00 0.00 0.00 0.00 0.00 0.00 0.00 0.00 0.00 0.00 0.00 0.00 0.00 0.00 0.00 0.00 0.00 0.00 0.00 0.00 0.00 0.00 0.00 0.00 0.00 0.00 0.00 \n",
      "0.00 0.00 0.00 0.00 0.00 0.00 0.00 0.00 0.00 0.00 0.00 0.00 0.00 0.00 0.00 0.00 0.00 0.00 0.00 0.00 0.00 0.00 0.00 0.00 0.00 0.00 0.00 0.00 \n",
      "0.00 0.00 0.00 0.00 0.00 0.00 0.00 0.00 0.00 0.00 0.00 0.00 0.00 0.00 0.00 0.00 0.00 0.00 0.00 0.00 0.00 0.00 0.00 0.00 0.00 0.00 0.00 0.00 \n"
     ]
    }
   ],
   "source": [
    "def get_data_loader(is_train):\n",
    "    to_tensor = transforms.Compose([transforms.ToTensor()])\n",
    "    data_set = datasets.MNIST(\"\", is_train, transform=to_tensor,download=True)\n",
    "    '''\n",
    "        不加transform = to_tensor参数 每个元素构成是[Image,label]\n",
    "        加上transform = to_tensor参数 Image变成了一个三维张量，第一维是通道数，第二维和第三维是图片像素数\n",
    "        且单个像素的值由0~255的灰度值归一化为了0~1的值\n",
    "        （图片像素数是28*28，第二维和第三维的大小都是28）\n",
    "    '''\n",
    "    return DataLoader(data_set, batch_size=15, shuffle=True)\n",
    "data_origin = datasets.MNIST(\"\", True, download=True)\n",
    "image_origin,label = data_origin[0]\n",
    "print(type(image_origin))\n",
    "size = image_origin.size\n",
    "print(size)\n",
    "for i in range(size[0]):\n",
    "    for j in range(size[1]):\n",
    "        print(image_origin.getpixel((i, j)),end = ' ')\n",
    "    print('')\n",
    "print('-------------------------------')\n",
    "to_tensor = transforms.Compose([transforms.ToTensor()])\n",
    "data_to_tensor = datasets.MNIST(\"\", True, transform=to_tensor,download=True)\n",
    "image_tensor,label = data_to_tensor[0]\n",
    "shape = image_tensor.shape\n",
    "print(shape)\n",
    "print(image_tensor[0][0][0])\n",
    "for i in range(shape[1]):\n",
    "    for j in range(shape[2]):\n",
    "        print('{:.2f}'.format(image_tensor[0][i][j].item()),end = ' ')\n",
    "    print('')"
   ]
  },
  {
   "cell_type": "code",
   "execution_count": 4,
   "id": "cf61be98-4d12-4ddf-99c0-b7471553852a",
   "metadata": {},
   "outputs": [],
   "source": [
    "def evaluate(test_data, net):\n",
    "    n_corret = 0\n",
    "    n_total = 0\n",
    "    with torch.no_grad():\n",
    "        for (x, y) in test_data:\n",
    "            outputs = net.forward(x.view(-1,28*28))\n",
    "            for i, output in enumerate(outputs):\n",
    "                '''output是0~9各个数字的概率，argmax()获得最大的概率对应的下标'''\n",
    "                if torch.argmax(output) == y[i]:\n",
    "                    n_corret += 1\n",
    "                n_total += 1\n",
    "    return n_corret / n_total"
   ]
  },
  {
   "cell_type": "code",
   "execution_count": 5,
   "id": "e9c10326-e8db-4f31-ae93-fb453250b011",
   "metadata": {},
   "outputs": [],
   "source": [
    "def main():\n",
    "    train_data = get_data_loader(is_train = True)\n",
    "    test_data = get_data_loader(is_train = False)\n",
    "    '''\n",
    "    get_data_loader中设置了batch_size = 15\n",
    "    这里的train_data和test_data分成了每15张图一个批次\n",
    "    '''\n",
    "    net = Net()\n",
    "    print(\"initial accuracy:\", evaluate(test_data,net))\n",
    "    # optimizer = torch.optim.Adam(net.parameters(), lr = 0.001)\n",
    "    optimizer = torch.optim.SGD(net.parameters(), lr = 0.001)\n",
    "    '''Adam不太了解，这里换成SGD随机梯度下降，收敛会慢得多要多训练几轮'''\n",
    "    for epoch in range(5):\n",
    "        for (x, y) in train_data:\n",
    "            '''\n",
    "            x是15张图的图像信息\n",
    "            y是15张图的label\n",
    "            '''\n",
    "            net.zero_grad() # 清零梯度\n",
    "            output = net.forward(x.view(-1,28*28))\n",
    "            loss = torch.nn.functional.nll_loss(output, y)\n",
    "            '''对数损失函数，为了匹配前面log_softmax中的对数运算'''\n",
    "            loss.backward() # 计算梯度\n",
    "            optimizer.step() # 调整参数\n",
    "        print(\"epoch\", epoch, \"accuracy:\", evaluate(test_data,net))\n",
    "\n",
    "    \n",
    "    for(n, (x, _)) in enumerate(test_data):\n",
    "        if (n > 3):\n",
    "            break\n",
    "        predict = torch.argmax(net.forward(x[0].view(-1, 28*28)))\n",
    "        plt.figure(n)\n",
    "        plt.imshow(x[0].view(28,28))\n",
    "        plt.title(\"prediction: \" + str(int(predict)))\n",
    "    plt.show()"
   ]
  },
  {
   "cell_type": "code",
   "execution_count": 6,
   "id": "ea73cff9-606f-4db7-a5d4-8f0f539c647f",
   "metadata": {
    "scrolled": true
   },
   "outputs": [
    {
     "name": "stdout",
     "output_type": "stream",
     "text": [
      "initial accuracy: 0.0\n",
      "epoch 0 accuracy: 0.1616\n",
      "epoch 1 accuracy: 0.4403\n",
      "epoch 2 accuracy: 0.7101\n",
      "epoch 3 accuracy: 0.8125\n",
      "epoch 4 accuracy: 0.853\n"
     ]
    },
    {
     "data": {
      "image/png": "[encoded data removed]",
      "text/plain": [
       "<Figure size 640x480 with 1 Axes>"
      ]
     },
     "metadata": {},
     "output_type": "display_data"
    },
    {
     "data": {
      "image/png": "[encoded data removed]",
      "text/plain": [
       "<Figure size 640x480 with 1 Axes>"
      ]
     },
     "metadata": {},
     "output_type": "display_data"
    },
    {
     "data": {
      "image/png": "[encoded data removed]",
      "text/plain": [
       "<Figure size 640x480 with 1 Axes>"
      ]
     },
     "metadata": {},
     "output_type": "display_data"
    },
    {
     "data": {
      "image/png": "[encoded data removed]",
      "text/plain": [
       "<Figure size 640x480 with 1 Axes>"
      ]
     },
     "metadata": {},
     "output_type": "display_data"
    }
   ],
   "source": [
    "if __name__ == \"__main__\":\n",
    "    main()"
   ]
  },
  {
   "cell_type": "markdown",
   "id": "1b625f91-475a-44fd-a779-089e7450c321",
   "metadata": {},
   "source": [
    "拟合函数：`net.forward`  \n",
    "损失函数：`torch.nn.functional.nll_loss`计算损失  \n",
    "优化函数：`optimizer.step()`调整参数，减小损失  \n"
   ]
  }
 ],
 "metadata": {
  "kernelspec": {
   "display_name": "Python 3 (ipykernel)",
   "language": "python",
   "name": "python3"
  },
  "language_info": {
   "codemirror_mode": {
    "name": "ipython",
    "version": 3
   },
   "file_extension": ".py",
   "mimetype": "text/x-python",
   "name": "python",
   "nbconvert_exporter": "python",
   "pygments_lexer": "ipython3",
   "version": "3.12.7"
  }
 },
 "nbformat": 4,
 "nbformat_minor": 5
}
